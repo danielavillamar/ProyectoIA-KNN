{
 "cells": [
  {
   "cell_type": "markdown",
   "id": "4adbf3f4-168b-4472-b1f8-3119957b7fa7",
   "metadata": {},
   "source": [
    "## Proyecto Final: \n",
    "Mirka Monzón 18139  \n",
    "Daniela Villamar 19086  \n",
    "Alexa Bravo  18831  \n",
    "Mayo 17, 2022"
   ]
  },
  {
   "cell_type": "markdown",
   "id": "0c5fc1a0-7866-4631-abb1-df0ef45a71b1",
   "metadata": {},
   "source": [
    "### Análisis Exploratorio"
   ]
  },
  {
   "cell_type": "code",
   "execution_count": 1,
   "id": "5046528b-62f6-4658-8943-f918e68198c6",
   "metadata": {},
   "outputs": [],
   "source": [
    "#Importamos las librerias necesarias. \n",
    "import pandas as pd\n",
    "import numpy as np\n",
    "import matplotlib.pyplot as plt\n",
    "import seaborn as sns\n",
    "\n",
    "from scipy.stats import norm\n",
    "from sklearn.preprocessing import StandardScaler, normalize\n",
    "from scipy import stats\n",
    "from sklearn.preprocessing import LabelEncoder\n",
    "from sklearn.metrics import accuracy_score,classification_report, confusion_matrix, mean_squared_error, roc_curve\n",
    "from sklearn.ensemble import RandomForestRegressor\n",
    "from sklearn.model_selection import train_test_split\n",
    "from sklearn.ensemble import RandomForestClassifier\n",
    "from sklearn.model_selection import KFold, cross_val_score\n",
    "from sklearn.svm import SVC\n",
    "from sklearn.tree import DecisionTreeRegressor"
   ]
  },
  {
   "cell_type": "code",
   "execution_count": 2,
   "id": "fd580119-f103-4ed6-8ecc-ac9956aecb2b",
   "metadata": {},
   "outputs": [
    {
     "data": {
      "text/html": [
       "<div>\n",
       "<style scoped>\n",
       "    .dataframe tbody tr th:only-of-type {\n",
       "        vertical-align: middle;\n",
       "    }\n",
       "\n",
       "    .dataframe tbody tr th {\n",
       "        vertical-align: top;\n",
       "    }\n",
       "\n",
       "    .dataframe thead th {\n",
       "        text-align: right;\n",
       "    }\n",
       "</style>\n",
       "<table border=\"1\" class=\"dataframe\">\n",
       "  <thead>\n",
       "    <tr style=\"text-align: right;\">\n",
       "      <th></th>\n",
       "      <th>Gender</th>\n",
       "      <th>Age</th>\n",
       "      <th>Employment Status</th>\n",
       "      <th>Education</th>\n",
       "      <th>Matrial Status</th>\n",
       "      <th>Income</th>\n",
       "      <th>LoanApproved</th>\n",
       "    </tr>\n",
       "  </thead>\n",
       "  <tbody>\n",
       "    <tr>\n",
       "      <th>0</th>\n",
       "      <td>Male</td>\n",
       "      <td>27</td>\n",
       "      <td>Full time</td>\n",
       "      <td>High</td>\n",
       "      <td>Single</td>\n",
       "      <td>Medium</td>\n",
       "      <td>Yes</td>\n",
       "    </tr>\n",
       "    <tr>\n",
       "      <th>1</th>\n",
       "      <td>Male</td>\n",
       "      <td>60</td>\n",
       "      <td>Full time</td>\n",
       "      <td>Medium</td>\n",
       "      <td>Married</td>\n",
       "      <td>High</td>\n",
       "      <td>No</td>\n",
       "    </tr>\n",
       "    <tr>\n",
       "      <th>2</th>\n",
       "      <td>Male</td>\n",
       "      <td>25</td>\n",
       "      <td>Full time</td>\n",
       "      <td>High</td>\n",
       "      <td>Single</td>\n",
       "      <td>Medium</td>\n",
       "      <td>No</td>\n",
       "    </tr>\n",
       "    <tr>\n",
       "      <th>3</th>\n",
       "      <td>Male</td>\n",
       "      <td>35</td>\n",
       "      <td>Full time</td>\n",
       "      <td>High</td>\n",
       "      <td>Single</td>\n",
       "      <td>High</td>\n",
       "      <td>Yes</td>\n",
       "    </tr>\n",
       "    <tr>\n",
       "      <th>4</th>\n",
       "      <td>Female</td>\n",
       "      <td>50</td>\n",
       "      <td>Unemployed</td>\n",
       "      <td>Low</td>\n",
       "      <td>DP</td>\n",
       "      <td>Medium</td>\n",
       "      <td>No</td>\n",
       "    </tr>\n",
       "  </tbody>\n",
       "</table>\n",
       "</div>"
      ],
      "text/plain": [
       "   Gender  Age Employment Status Education Matrial Status  Income LoanApproved\n",
       "0    Male   27         Full time      High         Single  Medium         Yes \n",
       "1    Male   60         Full time    Medium        Married    High           No\n",
       "2    Male   25         Full time      High         Single  Medium           No\n",
       "3    Male   35         Full time      High         Single    High         Yes \n",
       "4  Female   50        Unemployed       Low             DP  Medium           No"
      ]
     },
     "execution_count": 2,
     "metadata": {},
     "output_type": "execute_result"
    }
   ],
   "source": [
    "#Cargamos los datos del dataset.\n",
    "df = pd.read_csv('IAProyecto.csv', delimiter=';')\n",
    "df.head(5)"
   ]
  },
  {
   "cell_type": "markdown",
   "id": "8fb0c43a-b876-4b5d-bc51-8890496098be",
   "metadata": {},
   "source": [
    "**Descripción de las columnas**  \n",
    "*Gender*: indica el genero del solicitante (femenino o masculino).   \n",
    "*Age:* Edad del solicitante en un rango de 20 a 64 años.   \n",
    "*Employment Status:* El estado laboral del solicitante (tiempo completo, medio tiempo, desempleado, laborando por cuenta propia, retirado, estudiante y no responder).  \n",
    "*Matrial Status:* Estado civil del solicitante (soltero, casado, divorciado, viudo).  \n",
    "*Income:* Indica los ingresos del solicitante (alto, medio, bajo).    \n",
    "*LoanApproved:* Indifa si el solicitante obtuvo el prestamo (si, no).  "
   ]
  },
  {
   "cell_type": "code",
   "execution_count": 3,
   "id": "05c9d40e-7302-4ef0-8480-8fe8474e4b35",
   "metadata": {},
   "outputs": [
    {
     "name": "stdout",
     "output_type": "stream",
     "text": [
      "Total de datos: 8790\n"
     ]
    }
   ],
   "source": [
    "#Vemos la cantidad total de datos.\n",
    "print('Total de datos:', len(df))"
   ]
  },
  {
   "cell_type": "code",
   "execution_count": 4,
   "id": "feea7761-faac-4169-85a7-c9be997dcc27",
   "metadata": {
    "tags": []
   },
   "outputs": [
    {
     "name": "stdout",
     "output_type": "stream",
     "text": [
      "<class 'pandas.core.frame.DataFrame'>\n",
      "RangeIndex: 8790 entries, 0 to 8789\n",
      "Data columns (total 7 columns):\n",
      " #   Column             Non-Null Count  Dtype \n",
      "---  ------             --------------  ----- \n",
      " 0   Gender             8790 non-null   object\n",
      " 1   Age                8790 non-null   int64 \n",
      " 2   Employment Status  8790 non-null   object\n",
      " 3   Education          8790 non-null   object\n",
      " 4   Matrial Status     8790 non-null   object\n",
      " 5   Income             8790 non-null   object\n",
      " 6   LoanApproved       8790 non-null   object\n",
      "dtypes: int64(1), object(6)\n",
      "memory usage: 480.8+ KB\n"
     ]
    }
   ],
   "source": [
    "#Vemos la información de los datos. \n",
    "df.info()"
   ]
  },
  {
   "cell_type": "code",
   "execution_count": 5,
   "id": "dade3b28-356b-40c3-94d4-df07d71c6dfc",
   "metadata": {},
   "outputs": [
    {
     "data": {
      "text/html": [
       "<div>\n",
       "<style scoped>\n",
       "    .dataframe tbody tr th:only-of-type {\n",
       "        vertical-align: middle;\n",
       "    }\n",
       "\n",
       "    .dataframe tbody tr th {\n",
       "        vertical-align: top;\n",
       "    }\n",
       "\n",
       "    .dataframe thead th {\n",
       "        text-align: right;\n",
       "    }\n",
       "</style>\n",
       "<table border=\"1\" class=\"dataframe\">\n",
       "  <thead>\n",
       "    <tr style=\"text-align: right;\">\n",
       "      <th></th>\n",
       "      <th>0</th>\n",
       "    </tr>\n",
       "  </thead>\n",
       "  <tbody>\n",
       "    <tr>\n",
       "      <th>Gender</th>\n",
       "      <td>0</td>\n",
       "    </tr>\n",
       "    <tr>\n",
       "      <th>Age</th>\n",
       "      <td>0</td>\n",
       "    </tr>\n",
       "    <tr>\n",
       "      <th>Employment Status</th>\n",
       "      <td>0</td>\n",
       "    </tr>\n",
       "    <tr>\n",
       "      <th>Education</th>\n",
       "      <td>0</td>\n",
       "    </tr>\n",
       "    <tr>\n",
       "      <th>Matrial Status</th>\n",
       "      <td>0</td>\n",
       "    </tr>\n",
       "    <tr>\n",
       "      <th>Income</th>\n",
       "      <td>0</td>\n",
       "    </tr>\n",
       "    <tr>\n",
       "      <th>LoanApproved</th>\n",
       "      <td>0</td>\n",
       "    </tr>\n",
       "  </tbody>\n",
       "</table>\n",
       "</div>"
      ],
      "text/plain": [
       "                   0\n",
       "Gender             0\n",
       "Age                0\n",
       "Employment Status  0\n",
       "Education          0\n",
       "Matrial Status     0\n",
       "Income             0\n",
       "LoanApproved       0"
      ]
     },
     "execution_count": 5,
     "metadata": {},
     "output_type": "execute_result"
    }
   ],
   "source": [
    "#Vemos si las columnas tienen datos faltantes.  \n",
    "df.isna().sum().to_frame()"
   ]
  },
  {
   "cell_type": "markdown",
   "id": "56f4d05a-c6bf-445a-bf74-948e2f8bde42",
   "metadata": {},
   "source": [
    "#### Anális de cada variable por separado"
   ]
  },
  {
   "cell_type": "code",
   "execution_count": 6,
   "id": "55aaabe5-bebb-4b42-8136-214d00a85c16",
   "metadata": {},
   "outputs": [
    {
     "data": {
      "text/plain": [
       "Female    4409\n",
       "Male      4381\n",
       "Name: Gender, dtype: int64"
      ]
     },
     "execution_count": 6,
     "metadata": {},
     "output_type": "execute_result"
    }
   ],
   "source": [
    "#Cantidad de datos por opción de la columna \"Gender\"\n",
    "pd.value_counts(df['Gender'])"
   ]
  },
  {
   "cell_type": "code",
   "execution_count": 7,
   "id": "ecfe556e-8246-4e2a-b18a-401b7256706d",
   "metadata": {},
   "outputs": [
    {
     "data": {
      "image/png": "[encoded data removed]",
      "text/plain": [
       "<Figure size 432x432 with 1 Axes>"
      ]
     },
     "metadata": {},
     "output_type": "display_data"
    }
   ],
   "source": [
    "#Gráfica representativa de los datos de \"Gender\"\n",
    "plot = df['Gender'].value_counts().plot(kind='pie', autopct='%.2f', figsize=(6, 6),\n",
    "                                            title='Genero de los Solicitantes')"
   ]
  },
  {
   "cell_type": "code",
   "execution_count": 8,
   "id": "e4734d02-c51a-446b-bb43-10ebbc20913c",
   "metadata": {},
   "outputs": [
    {
     "data": {
      "text/plain": [
       "33    240\n",
       "34    237\n",
       "24    236\n",
       "38    233\n",
       "37    229\n",
       "30    223\n",
       "32    222\n",
       "36    221\n",
       "41    220\n",
       "43    220\n",
       "54    218\n",
       "35    217\n",
       "42    210\n",
       "46    207\n",
       "51    207\n",
       "40    207\n",
       "39    205\n",
       "31    202\n",
       "58    201\n",
       "53    200\n",
       "60    196\n",
       "52    196\n",
       "57    195\n",
       "44    194\n",
       "23    191\n",
       "49    190\n",
       "59    189\n",
       "56    189\n",
       "61    189\n",
       "26    185\n",
       "29    183\n",
       "48    183\n",
       "55    182\n",
       "28    182\n",
       "50    177\n",
       "25    176\n",
       "62    172\n",
       "47    172\n",
       "45    168\n",
       "21    166\n",
       "64    166\n",
       "27    165\n",
       "22    162\n",
       "63    135\n",
       "20    132\n",
       "Name: Age, dtype: int64"
      ]
     },
     "execution_count": 8,
     "metadata": {},
     "output_type": "execute_result"
    }
   ],
   "source": [
    "#Cantidad de datos por opción de la columna \"Age\"\n",
    "pd.value_counts(df['Age'])"
   ]
  },
  {
   "cell_type": "code",
   "execution_count": 9,
   "id": "64c63a95-067d-4c24-b940-7b6f0fa85cc6",
   "metadata": {},
   "outputs": [
    {
     "data": {
      "image/png": "[encoded data removed]",
      "text/plain": [
       "<Figure size 1080x432 with 1 Axes>"
      ]
     },
     "metadata": {
      "needs_background": "light"
     },
     "output_type": "display_data"
    }
   ],
   "source": [
    "#Gráfica representativa de los datos de \"Age\"\n",
    "plot = df['Age'].value_counts().plot(kind='bar', figsize=(15, 6),\n",
    "                                            title='Edad de los Solicitantes')"
   ]
  },
  {
   "cell_type": "code",
   "execution_count": 10,
   "id": "528ae82a-c702-4069-81d8-4a2f26fd381c",
   "metadata": {},
   "outputs": [
    {
     "data": {
      "text/plain": [
       "Full time               4602\n",
       "Unemployed              1265\n",
       "Part time                970\n",
       "Retired                  786\n",
       "Self employed            606\n",
       "A student                461\n",
       "Prefer not to answer     100\n",
       "Name: Employment Status, dtype: int64"
      ]
     },
     "execution_count": 10,
     "metadata": {},
     "output_type": "execute_result"
    }
   ],
   "source": [
    "#Cantidad de datos por opción de la columna \"Education \"\n",
    "pd.value_counts(df['Employment Status'])"
   ]
  },
  {
   "cell_type": "code",
   "execution_count": 11,
   "id": "eebe1c57-f8ae-4948-a536-3d572076172b",
   "metadata": {},
   "outputs": [
    {
     "data": {
      "image/png": "[encoded data removed]",
      "text/plain": [
       "<Figure size 720x432 with 1 Axes>"
      ]
     },
     "metadata": {
      "needs_background": "light"
     },
     "output_type": "display_data"
    }
   ],
   "source": [
    "#Gráfica representativa de los datos de \"Age\"\n",
    "plot = df['Employment Status'].value_counts().plot(kind='bar', figsize=(10, 6),\n",
    "                                            title='Estado Laboral de los Solicitantes')"
   ]
  },
  {
   "cell_type": "code",
   "execution_count": 12,
   "id": "e4a39002-8484-4536-a303-c6ad1a0f3920",
   "metadata": {},
   "outputs": [
    {
     "data": {
      "text/plain": [
       "High      3811\n",
       "Medium    2661\n",
       "Low       2318\n",
       "Name: Education, dtype: int64"
      ]
     },
     "execution_count": 12,
     "metadata": {},
     "output_type": "execute_result"
    }
   ],
   "source": [
    "#Cantidad de datos por opción de la columna \"Education \"\n",
    "pd.value_counts(df['Education'])"
   ]
  },
  {
   "cell_type": "code",
   "execution_count": 13,
   "id": "ab5f7537-249b-4d54-a12b-7fdf71f06c53",
   "metadata": {},
   "outputs": [
    {
     "data": {
      "image/png": "[encoded data removed]",
      "text/plain": [
       "<Figure size 432x432 with 1 Axes>"
      ]
     },
     "metadata": {
      "needs_background": "light"
     },
     "output_type": "display_data"
    }
   ],
   "source": [
    "#Gráfica representativa de los datos de \"Education\"\n",
    "plot = df['Education'].value_counts().plot(kind='bar', figsize=(6, 6),\n",
    "                                            title='Nivel de estudio de los Solicitantes')"
   ]
  },
  {
   "cell_type": "code",
   "execution_count": 14,
   "id": "e76ba549-31a0-493b-91a3-9908d9c87856",
   "metadata": {},
   "outputs": [
    {
     "data": {
      "text/plain": [
       "Married     4746\n",
       "Single      2194\n",
       "DP          1129\n",
       "Divorced     605\n",
       "Widowed      116\n",
       "Name: Matrial Status, dtype: int64"
      ]
     },
     "execution_count": 14,
     "metadata": {},
     "output_type": "execute_result"
    }
   ],
   "source": [
    "#Cantidad de datos por opción de la columna \"Matrial Status\"\n",
    "pd.value_counts(df['Matrial Status'])"
   ]
  },
  {
   "cell_type": "code",
   "execution_count": 15,
   "id": "ae9defe7-925c-4d7f-ac77-873d94945c36",
   "metadata": {},
   "outputs": [
    {
     "data": {
      "image/png": "[encoded data removed]",
      "text/plain": [
       "<Figure size 432x432 with 1 Axes>"
      ]
     },
     "metadata": {
      "needs_background": "light"
     },
     "output_type": "display_data"
    }
   ],
   "source": [
    "#Gráfica representativa de los datos de \"Matrial Status\"\n",
    "plot = df['Matrial Status'].value_counts().plot(kind='bar', figsize=(6, 6),\n",
    "                                            title='Estado Civil de los Solicitantes')"
   ]
  },
  {
   "cell_type": "code",
   "execution_count": 16,
   "id": "52520f83-8135-4877-8851-ed0aa29e8d2e",
   "metadata": {},
   "outputs": [
    {
     "data": {
      "text/plain": [
       "Medium    3308\n",
       "High      3286\n",
       "Low       2196\n",
       "Name: Income, dtype: int64"
      ]
     },
     "execution_count": 16,
     "metadata": {},
     "output_type": "execute_result"
    }
   ],
   "source": [
    "#Cantidad de datos por opción de la columna \"Income\"\n",
    "pd.value_counts(df['Income'])"
   ]
  },
  {
   "cell_type": "code",
   "execution_count": 17,
   "id": "a7381bf9-885b-419d-8890-4be309b9f0c8",
   "metadata": {},
   "outputs": [
    {
     "data": {
      "image/png": "[encoded data removed]",
      "text/plain": [
       "<Figure size 432x432 with 1 Axes>"
      ]
     },
     "metadata": {
      "needs_background": "light"
     },
     "output_type": "display_data"
    }
   ],
   "source": [
    "#Gráfica representativa de los datos de \"Income\"\n",
    "plot = df['Income'].value_counts().plot(kind='bar', figsize=(6, 6),\n",
    "                                            title='Nivel Ingresos de los Solicitantes')"
   ]
  },
  {
   "cell_type": "code",
   "execution_count": 18,
   "id": "f8f61e65-3354-4875-969d-708125a7fcd9",
   "metadata": {},
   "outputs": [
    {
     "data": {
      "text/plain": [
       "Yes     4435\n",
       "No      4355\n",
       "Name: LoanApproved, dtype: int64"
      ]
     },
     "execution_count": 18,
     "metadata": {},
     "output_type": "execute_result"
    }
   ],
   "source": [
    "#Cantidad de datos por opción de la columna \"LoanApproved\"\n",
    "pd.value_counts(df['LoanApproved'])"
   ]
  },
  {
   "cell_type": "code",
   "execution_count": 19,
   "id": "ac4f5318-2a32-4bf9-85fb-ab24cbc8f6c4",
   "metadata": {},
   "outputs": [
    {
     "data": {
      "image/png": "[encoded data removed]",
      "text/plain": [
       "<Figure size 432x432 with 1 Axes>"
      ]
     },
     "metadata": {},
     "output_type": "display_data"
    }
   ],
   "source": [
    "#Gráfica representativa de los datos de \"LoanApproved\"\n",
    "plot = df['LoanApproved'].value_counts().plot(kind='pie', autopct='%.2f', figsize=(6, 6),\n",
    "                                            title='Prestamos Aprovados')"
   ]
  },
  {
   "cell_type": "markdown",
   "id": "63fa42be-a9ad-4caf-9f5b-667f81ace3d4",
   "metadata": {},
   "source": [
    "#### Análisis de la relación de \"LoanApproved\" con las demas variables."
   ]
  },
  {
   "cell_type": "code",
   "execution_count": 20,
   "id": "75ca353a-7e3f-416b-815f-370923a9ec0f",
   "metadata": {},
   "outputs": [
    {
     "data": {
      "text/html": [
       "<div>\n",
       "<style scoped>\n",
       "    .dataframe tbody tr th:only-of-type {\n",
       "        vertical-align: middle;\n",
       "    }\n",
       "\n",
       "    .dataframe tbody tr th {\n",
       "        vertical-align: top;\n",
       "    }\n",
       "\n",
       "    .dataframe thead th {\n",
       "        text-align: right;\n",
       "    }\n",
       "</style>\n",
       "<table border=\"1\" class=\"dataframe\">\n",
       "  <thead>\n",
       "    <tr style=\"text-align: right;\">\n",
       "      <th>LoanApproved</th>\n",
       "      <th>No</th>\n",
       "      <th>Yes</th>\n",
       "      <th>All</th>\n",
       "    </tr>\n",
       "    <tr>\n",
       "      <th>Gender</th>\n",
       "      <th></th>\n",
       "      <th></th>\n",
       "      <th></th>\n",
       "    </tr>\n",
       "  </thead>\n",
       "  <tbody>\n",
       "    <tr>\n",
       "      <th>Female</th>\n",
       "      <td>2199</td>\n",
       "      <td>2210</td>\n",
       "      <td>4409</td>\n",
       "    </tr>\n",
       "    <tr>\n",
       "      <th>Male</th>\n",
       "      <td>2156</td>\n",
       "      <td>2225</td>\n",
       "      <td>4381</td>\n",
       "    </tr>\n",
       "    <tr>\n",
       "      <th>All</th>\n",
       "      <td>4355</td>\n",
       "      <td>4435</td>\n",
       "      <td>8790</td>\n",
       "    </tr>\n",
       "  </tbody>\n",
       "</table>\n",
       "</div>"
      ],
      "text/plain": [
       "LoanApproved    No  Yes    All\n",
       "Gender                        \n",
       "Female        2199  2210  4409\n",
       "Male          2156  2225  4381\n",
       "All           4355  4435  8790"
      ]
     },
     "execution_count": 20,
     "metadata": {},
     "output_type": "execute_result"
    }
   ],
   "source": [
    "#Cantidad de datos por opción de la columna \"Gender\" con relación a \"LoanApproved\"\n",
    "pd.crosstab(index=df['Gender'],\n",
    "            columns=df['LoanApproved'], margins=True)"
   ]
  },
  {
   "cell_type": "code",
   "execution_count": 21,
   "id": "d230d12a-dcec-4b92-9a1a-c7a128585575",
   "metadata": {},
   "outputs": [
    {
     "data": {
      "image/png": "[encoded data removed]",
      "text/plain": [
       "<Figure size 432x288 with 1 Axes>"
      ]
     },
     "metadata": {
      "needs_background": "light"
     },
     "output_type": "display_data"
    }
   ],
   "source": [
    "#Gráfica representativa de los datos de \"Gender\" con relación a \"LoanApproved\"\n",
    "plot = pd.crosstab(index=df['Gender'],\n",
    "            columns=df['LoanApproved']).plot(kind='bar')"
   ]
  },
  {
   "cell_type": "code",
   "execution_count": 22,
   "id": "f3b71b72-6755-49a1-bde6-563e3b58a810",
   "metadata": {},
   "outputs": [
    {
     "data": {
      "text/html": [
       "<div>\n",
       "<style scoped>\n",
       "    .dataframe tbody tr th:only-of-type {\n",
       "        vertical-align: middle;\n",
       "    }\n",
       "\n",
       "    .dataframe tbody tr th {\n",
       "        vertical-align: top;\n",
       "    }\n",
       "\n",
       "    .dataframe thead th {\n",
       "        text-align: right;\n",
       "    }\n",
       "</style>\n",
       "<table border=\"1\" class=\"dataframe\">\n",
       "  <thead>\n",
       "    <tr style=\"text-align: right;\">\n",
       "      <th>LoanApproved</th>\n",
       "      <th>No</th>\n",
       "      <th>Yes</th>\n",
       "      <th>All</th>\n",
       "    </tr>\n",
       "    <tr>\n",
       "      <th>Age</th>\n",
       "      <th></th>\n",
       "      <th></th>\n",
       "      <th></th>\n",
       "    </tr>\n",
       "  </thead>\n",
       "  <tbody>\n",
       "    <tr>\n",
       "      <th>20</th>\n",
       "      <td>60</td>\n",
       "      <td>72</td>\n",
       "      <td>132</td>\n",
       "    </tr>\n",
       "    <tr>\n",
       "      <th>21</th>\n",
       "      <td>68</td>\n",
       "      <td>98</td>\n",
       "      <td>166</td>\n",
       "    </tr>\n",
       "    <tr>\n",
       "      <th>22</th>\n",
       "      <td>83</td>\n",
       "      <td>79</td>\n",
       "      <td>162</td>\n",
       "    </tr>\n",
       "    <tr>\n",
       "      <th>23</th>\n",
       "      <td>100</td>\n",
       "      <td>91</td>\n",
       "      <td>191</td>\n",
       "    </tr>\n",
       "    <tr>\n",
       "      <th>24</th>\n",
       "      <td>109</td>\n",
       "      <td>127</td>\n",
       "      <td>236</td>\n",
       "    </tr>\n",
       "    <tr>\n",
       "      <th>25</th>\n",
       "      <td>92</td>\n",
       "      <td>84</td>\n",
       "      <td>176</td>\n",
       "    </tr>\n",
       "    <tr>\n",
       "      <th>26</th>\n",
       "      <td>105</td>\n",
       "      <td>80</td>\n",
       "      <td>185</td>\n",
       "    </tr>\n",
       "    <tr>\n",
       "      <th>27</th>\n",
       "      <td>83</td>\n",
       "      <td>82</td>\n",
       "      <td>165</td>\n",
       "    </tr>\n",
       "    <tr>\n",
       "      <th>28</th>\n",
       "      <td>88</td>\n",
       "      <td>94</td>\n",
       "      <td>182</td>\n",
       "    </tr>\n",
       "    <tr>\n",
       "      <th>29</th>\n",
       "      <td>83</td>\n",
       "      <td>100</td>\n",
       "      <td>183</td>\n",
       "    </tr>\n",
       "    <tr>\n",
       "      <th>30</th>\n",
       "      <td>105</td>\n",
       "      <td>118</td>\n",
       "      <td>223</td>\n",
       "    </tr>\n",
       "    <tr>\n",
       "      <th>31</th>\n",
       "      <td>109</td>\n",
       "      <td>93</td>\n",
       "      <td>202</td>\n",
       "    </tr>\n",
       "    <tr>\n",
       "      <th>32</th>\n",
       "      <td>110</td>\n",
       "      <td>112</td>\n",
       "      <td>222</td>\n",
       "    </tr>\n",
       "    <tr>\n",
       "      <th>33</th>\n",
       "      <td>127</td>\n",
       "      <td>113</td>\n",
       "      <td>240</td>\n",
       "    </tr>\n",
       "    <tr>\n",
       "      <th>34</th>\n",
       "      <td>115</td>\n",
       "      <td>122</td>\n",
       "      <td>237</td>\n",
       "    </tr>\n",
       "    <tr>\n",
       "      <th>35</th>\n",
       "      <td>110</td>\n",
       "      <td>107</td>\n",
       "      <td>217</td>\n",
       "    </tr>\n",
       "    <tr>\n",
       "      <th>36</th>\n",
       "      <td>130</td>\n",
       "      <td>91</td>\n",
       "      <td>221</td>\n",
       "    </tr>\n",
       "    <tr>\n",
       "      <th>37</th>\n",
       "      <td>116</td>\n",
       "      <td>113</td>\n",
       "      <td>229</td>\n",
       "    </tr>\n",
       "    <tr>\n",
       "      <th>38</th>\n",
       "      <td>115</td>\n",
       "      <td>118</td>\n",
       "      <td>233</td>\n",
       "    </tr>\n",
       "    <tr>\n",
       "      <th>39</th>\n",
       "      <td>85</td>\n",
       "      <td>120</td>\n",
       "      <td>205</td>\n",
       "    </tr>\n",
       "    <tr>\n",
       "      <th>40</th>\n",
       "      <td>103</td>\n",
       "      <td>104</td>\n",
       "      <td>207</td>\n",
       "    </tr>\n",
       "    <tr>\n",
       "      <th>41</th>\n",
       "      <td>114</td>\n",
       "      <td>106</td>\n",
       "      <td>220</td>\n",
       "    </tr>\n",
       "    <tr>\n",
       "      <th>42</th>\n",
       "      <td>103</td>\n",
       "      <td>107</td>\n",
       "      <td>210</td>\n",
       "    </tr>\n",
       "    <tr>\n",
       "      <th>43</th>\n",
       "      <td>114</td>\n",
       "      <td>106</td>\n",
       "      <td>220</td>\n",
       "    </tr>\n",
       "    <tr>\n",
       "      <th>44</th>\n",
       "      <td>89</td>\n",
       "      <td>105</td>\n",
       "      <td>194</td>\n",
       "    </tr>\n",
       "    <tr>\n",
       "      <th>45</th>\n",
       "      <td>85</td>\n",
       "      <td>83</td>\n",
       "      <td>168</td>\n",
       "    </tr>\n",
       "    <tr>\n",
       "      <th>46</th>\n",
       "      <td>108</td>\n",
       "      <td>99</td>\n",
       "      <td>207</td>\n",
       "    </tr>\n",
       "    <tr>\n",
       "      <th>47</th>\n",
       "      <td>81</td>\n",
       "      <td>91</td>\n",
       "      <td>172</td>\n",
       "    </tr>\n",
       "    <tr>\n",
       "      <th>48</th>\n",
       "      <td>87</td>\n",
       "      <td>96</td>\n",
       "      <td>183</td>\n",
       "    </tr>\n",
       "    <tr>\n",
       "      <th>49</th>\n",
       "      <td>84</td>\n",
       "      <td>106</td>\n",
       "      <td>190</td>\n",
       "    </tr>\n",
       "    <tr>\n",
       "      <th>50</th>\n",
       "      <td>85</td>\n",
       "      <td>92</td>\n",
       "      <td>177</td>\n",
       "    </tr>\n",
       "    <tr>\n",
       "      <th>51</th>\n",
       "      <td>101</td>\n",
       "      <td>106</td>\n",
       "      <td>207</td>\n",
       "    </tr>\n",
       "    <tr>\n",
       "      <th>52</th>\n",
       "      <td>102</td>\n",
       "      <td>94</td>\n",
       "      <td>196</td>\n",
       "    </tr>\n",
       "    <tr>\n",
       "      <th>53</th>\n",
       "      <td>99</td>\n",
       "      <td>101</td>\n",
       "      <td>200</td>\n",
       "    </tr>\n",
       "    <tr>\n",
       "      <th>54</th>\n",
       "      <td>115</td>\n",
       "      <td>103</td>\n",
       "      <td>218</td>\n",
       "    </tr>\n",
       "    <tr>\n",
       "      <th>55</th>\n",
       "      <td>67</td>\n",
       "      <td>115</td>\n",
       "      <td>182</td>\n",
       "    </tr>\n",
       "    <tr>\n",
       "      <th>56</th>\n",
       "      <td>104</td>\n",
       "      <td>85</td>\n",
       "      <td>189</td>\n",
       "    </tr>\n",
       "    <tr>\n",
       "      <th>57</th>\n",
       "      <td>100</td>\n",
       "      <td>95</td>\n",
       "      <td>195</td>\n",
       "    </tr>\n",
       "    <tr>\n",
       "      <th>58</th>\n",
       "      <td>103</td>\n",
       "      <td>98</td>\n",
       "      <td>201</td>\n",
       "    </tr>\n",
       "    <tr>\n",
       "      <th>59</th>\n",
       "      <td>86</td>\n",
       "      <td>103</td>\n",
       "      <td>189</td>\n",
       "    </tr>\n",
       "    <tr>\n",
       "      <th>60</th>\n",
       "      <td>106</td>\n",
       "      <td>90</td>\n",
       "      <td>196</td>\n",
       "    </tr>\n",
       "    <tr>\n",
       "      <th>61</th>\n",
       "      <td>87</td>\n",
       "      <td>102</td>\n",
       "      <td>189</td>\n",
       "    </tr>\n",
       "    <tr>\n",
       "      <th>62</th>\n",
       "      <td>82</td>\n",
       "      <td>90</td>\n",
       "      <td>172</td>\n",
       "    </tr>\n",
       "    <tr>\n",
       "      <th>63</th>\n",
       "      <td>74</td>\n",
       "      <td>61</td>\n",
       "      <td>135</td>\n",
       "    </tr>\n",
       "    <tr>\n",
       "      <th>64</th>\n",
       "      <td>83</td>\n",
       "      <td>83</td>\n",
       "      <td>166</td>\n",
       "    </tr>\n",
       "    <tr>\n",
       "      <th>All</th>\n",
       "      <td>4355</td>\n",
       "      <td>4435</td>\n",
       "      <td>8790</td>\n",
       "    </tr>\n",
       "  </tbody>\n",
       "</table>\n",
       "</div>"
      ],
      "text/plain": [
       "LoanApproved    No  Yes    All\n",
       "Age                           \n",
       "20              60    72   132\n",
       "21              68    98   166\n",
       "22              83    79   162\n",
       "23             100    91   191\n",
       "24             109   127   236\n",
       "25              92    84   176\n",
       "26             105    80   185\n",
       "27              83    82   165\n",
       "28              88    94   182\n",
       "29              83   100   183\n",
       "30             105   118   223\n",
       "31             109    93   202\n",
       "32             110   112   222\n",
       "33             127   113   240\n",
       "34             115   122   237\n",
       "35             110   107   217\n",
       "36             130    91   221\n",
       "37             116   113   229\n",
       "38             115   118   233\n",
       "39              85   120   205\n",
       "40             103   104   207\n",
       "41             114   106   220\n",
       "42             103   107   210\n",
       "43             114   106   220\n",
       "44              89   105   194\n",
       "45              85    83   168\n",
       "46             108    99   207\n",
       "47              81    91   172\n",
       "48              87    96   183\n",
       "49              84   106   190\n",
       "50              85    92   177\n",
       "51             101   106   207\n",
       "52             102    94   196\n",
       "53              99   101   200\n",
       "54             115   103   218\n",
       "55              67   115   182\n",
       "56             104    85   189\n",
       "57             100    95   195\n",
       "58             103    98   201\n",
       "59              86   103   189\n",
       "60             106    90   196\n",
       "61              87   102   189\n",
       "62              82    90   172\n",
       "63              74    61   135\n",
       "64              83    83   166\n",
       "All           4355  4435  8790"
      ]
     },
     "execution_count": 22,
     "metadata": {},
     "output_type": "execute_result"
    }
   ],
   "source": [
    "#Cantidad de datos por opción de la columna \"Age\" con relación a \"LoanApproved\"\n",
    "pd.crosstab(index=df['Age'],\n",
    "            columns=df['LoanApproved'], margins=True)"
   ]
  },
  {
   "cell_type": "code",
   "execution_count": 23,
   "id": "850d7e00-c201-44da-a355-e3d4c4c22163",
   "metadata": {},
   "outputs": [
    {
     "data": {
      "image/png": "[encoded data removed]",
      "text/plain": [
       "<Figure size 1080x432 with 1 Axes>"
      ]
     },
     "metadata": {
      "needs_background": "light"
     },
     "output_type": "display_data"
    }
   ],
   "source": [
    "#Gráfica representativa de los datos de \"Age\" con relación a \"LoanApproved\"\n",
    "plot = pd.crosstab(index=df['Age'],\n",
    "            columns=df['LoanApproved']).plot(kind='bar', figsize=(15, 6))"
   ]
  },
  {
   "cell_type": "code",
   "execution_count": 24,
   "id": "dfc46d32-9abe-403b-a08e-e0353ed076b5",
   "metadata": {},
   "outputs": [
    {
     "data": {
      "text/html": [
       "<div>\n",
       "<style scoped>\n",
       "    .dataframe tbody tr th:only-of-type {\n",
       "        vertical-align: middle;\n",
       "    }\n",
       "\n",
       "    .dataframe tbody tr th {\n",
       "        vertical-align: top;\n",
       "    }\n",
       "\n",
       "    .dataframe thead th {\n",
       "        text-align: right;\n",
       "    }\n",
       "</style>\n",
       "<table border=\"1\" class=\"dataframe\">\n",
       "  <thead>\n",
       "    <tr style=\"text-align: right;\">\n",
       "      <th>LoanApproved</th>\n",
       "      <th>No</th>\n",
       "      <th>Yes</th>\n",
       "      <th>All</th>\n",
       "    </tr>\n",
       "    <tr>\n",
       "      <th>Employment Status</th>\n",
       "      <th></th>\n",
       "      <th></th>\n",
       "      <th></th>\n",
       "    </tr>\n",
       "  </thead>\n",
       "  <tbody>\n",
       "    <tr>\n",
       "      <th>A student</th>\n",
       "      <td>215</td>\n",
       "      <td>246</td>\n",
       "      <td>461</td>\n",
       "    </tr>\n",
       "    <tr>\n",
       "      <th>Full time</th>\n",
       "      <td>2299</td>\n",
       "      <td>2303</td>\n",
       "      <td>4602</td>\n",
       "    </tr>\n",
       "    <tr>\n",
       "      <th>Part time</th>\n",
       "      <td>499</td>\n",
       "      <td>471</td>\n",
       "      <td>970</td>\n",
       "    </tr>\n",
       "    <tr>\n",
       "      <th>Prefer not to answer</th>\n",
       "      <td>51</td>\n",
       "      <td>49</td>\n",
       "      <td>100</td>\n",
       "    </tr>\n",
       "    <tr>\n",
       "      <th>Retired</th>\n",
       "      <td>402</td>\n",
       "      <td>384</td>\n",
       "      <td>786</td>\n",
       "    </tr>\n",
       "    <tr>\n",
       "      <th>Self employed</th>\n",
       "      <td>285</td>\n",
       "      <td>321</td>\n",
       "      <td>606</td>\n",
       "    </tr>\n",
       "    <tr>\n",
       "      <th>Unemployed</th>\n",
       "      <td>604</td>\n",
       "      <td>661</td>\n",
       "      <td>1265</td>\n",
       "    </tr>\n",
       "    <tr>\n",
       "      <th>All</th>\n",
       "      <td>4355</td>\n",
       "      <td>4435</td>\n",
       "      <td>8790</td>\n",
       "    </tr>\n",
       "  </tbody>\n",
       "</table>\n",
       "</div>"
      ],
      "text/plain": [
       "LoanApproved            No  Yes    All\n",
       "Employment Status                     \n",
       "A student              215   246   461\n",
       "Full time             2299  2303  4602\n",
       "Part time              499   471   970\n",
       "Prefer not to answer    51    49   100\n",
       "Retired                402   384   786\n",
       "Self employed          285   321   606\n",
       "Unemployed             604   661  1265\n",
       "All                   4355  4435  8790"
      ]
     },
     "execution_count": 24,
     "metadata": {},
     "output_type": "execute_result"
    }
   ],
   "source": [
    "#Cantidad de datos por opción de la columna \"Employment Status\" con relación a \"LoanApproved\"\n",
    "pd.crosstab(index=df['Employment Status'],\n",
    "            columns=df['LoanApproved'], margins=True)"
   ]
  },
  {
   "cell_type": "code",
   "execution_count": 25,
   "id": "ed2008c5-9c17-4bd1-928a-4297858564e0",
   "metadata": {},
   "outputs": [
    {
     "data": {
      "image/png": "[encoded data removed]",
      "text/plain": [
       "<Figure size 432x288 with 1 Axes>"
      ]
     },
     "metadata": {
      "needs_background": "light"
     },
     "output_type": "display_data"
    }
   ],
   "source": [
    "#Gráfica representativa de los datos de \"Education\" con relación a \"LoanApproved\"\n",
    "plot = pd.crosstab(index=df['Employment Status'],\n",
    "            columns=df['LoanApproved']).plot(kind='bar')"
   ]
  },
  {
   "cell_type": "code",
   "execution_count": 26,
   "id": "47f1cd78-12ab-4fd4-a34c-9ddfe82bff3d",
   "metadata": {},
   "outputs": [
    {
     "data": {
      "text/html": [
       "<div>\n",
       "<style scoped>\n",
       "    .dataframe tbody tr th:only-of-type {\n",
       "        vertical-align: middle;\n",
       "    }\n",
       "\n",
       "    .dataframe tbody tr th {\n",
       "        vertical-align: top;\n",
       "    }\n",
       "\n",
       "    .dataframe thead th {\n",
       "        text-align: right;\n",
       "    }\n",
       "</style>\n",
       "<table border=\"1\" class=\"dataframe\">\n",
       "  <thead>\n",
       "    <tr style=\"text-align: right;\">\n",
       "      <th>LoanApproved</th>\n",
       "      <th>No</th>\n",
       "      <th>Yes</th>\n",
       "      <th>All</th>\n",
       "    </tr>\n",
       "    <tr>\n",
       "      <th>Education</th>\n",
       "      <th></th>\n",
       "      <th></th>\n",
       "      <th></th>\n",
       "    </tr>\n",
       "  </thead>\n",
       "  <tbody>\n",
       "    <tr>\n",
       "      <th>High</th>\n",
       "      <td>1912</td>\n",
       "      <td>1899</td>\n",
       "      <td>3811</td>\n",
       "    </tr>\n",
       "    <tr>\n",
       "      <th>Low</th>\n",
       "      <td>1130</td>\n",
       "      <td>1188</td>\n",
       "      <td>2318</td>\n",
       "    </tr>\n",
       "    <tr>\n",
       "      <th>Medium</th>\n",
       "      <td>1313</td>\n",
       "      <td>1348</td>\n",
       "      <td>2661</td>\n",
       "    </tr>\n",
       "    <tr>\n",
       "      <th>All</th>\n",
       "      <td>4355</td>\n",
       "      <td>4435</td>\n",
       "      <td>8790</td>\n",
       "    </tr>\n",
       "  </tbody>\n",
       "</table>\n",
       "</div>"
      ],
      "text/plain": [
       "LoanApproved    No  Yes    All\n",
       "Education                     \n",
       "High          1912  1899  3811\n",
       "Low           1130  1188  2318\n",
       "Medium        1313  1348  2661\n",
       "All           4355  4435  8790"
      ]
     },
     "execution_count": 26,
     "metadata": {},
     "output_type": "execute_result"
    }
   ],
   "source": [
    "#Cantidad de datos por opción de la columna \"Education\" con relación a \"LoanApproved\"\n",
    "pd.crosstab(index=df['Education'],\n",
    "            columns=df['LoanApproved'], margins=True)"
   ]
  },
  {
   "cell_type": "code",
   "execution_count": 27,
   "id": "c2bbe413-21d7-494b-af07-ae37b6664513",
   "metadata": {},
   "outputs": [
    {
     "data": {
      "image/png": "[encoded data removed]",
      "text/plain": [
       "<Figure size 432x288 with 1 Axes>"
      ]
     },
     "metadata": {
      "needs_background": "light"
     },
     "output_type": "display_data"
    }
   ],
   "source": [
    "#Gráfica representativa de los datos de \"Education\" con relación a \"LoanApproved\"\n",
    "plot = pd.crosstab(index=df['Education'],\n",
    "            columns=df['LoanApproved']).plot(kind='bar')"
   ]
  },
  {
   "cell_type": "code",
   "execution_count": 28,
   "id": "2d90514d-c19a-4d4f-8410-1bc2b0c3a04c",
   "metadata": {},
   "outputs": [
    {
     "data": {
      "text/html": [
       "<div>\n",
       "<style scoped>\n",
       "    .dataframe tbody tr th:only-of-type {\n",
       "        vertical-align: middle;\n",
       "    }\n",
       "\n",
       "    .dataframe tbody tr th {\n",
       "        vertical-align: top;\n",
       "    }\n",
       "\n",
       "    .dataframe thead th {\n",
       "        text-align: right;\n",
       "    }\n",
       "</style>\n",
       "<table border=\"1\" class=\"dataframe\">\n",
       "  <thead>\n",
       "    <tr style=\"text-align: right;\">\n",
       "      <th>LoanApproved</th>\n",
       "      <th>No</th>\n",
       "      <th>Yes</th>\n",
       "      <th>All</th>\n",
       "    </tr>\n",
       "    <tr>\n",
       "      <th>Matrial Status</th>\n",
       "      <th></th>\n",
       "      <th></th>\n",
       "      <th></th>\n",
       "    </tr>\n",
       "  </thead>\n",
       "  <tbody>\n",
       "    <tr>\n",
       "      <th>DP</th>\n",
       "      <td>561</td>\n",
       "      <td>568</td>\n",
       "      <td>1129</td>\n",
       "    </tr>\n",
       "    <tr>\n",
       "      <th>Divorced</th>\n",
       "      <td>301</td>\n",
       "      <td>304</td>\n",
       "      <td>605</td>\n",
       "    </tr>\n",
       "    <tr>\n",
       "      <th>Married</th>\n",
       "      <td>2352</td>\n",
       "      <td>2394</td>\n",
       "      <td>4746</td>\n",
       "    </tr>\n",
       "    <tr>\n",
       "      <th>Single</th>\n",
       "      <td>1079</td>\n",
       "      <td>1115</td>\n",
       "      <td>2194</td>\n",
       "    </tr>\n",
       "    <tr>\n",
       "      <th>Widowed</th>\n",
       "      <td>62</td>\n",
       "      <td>54</td>\n",
       "      <td>116</td>\n",
       "    </tr>\n",
       "    <tr>\n",
       "      <th>All</th>\n",
       "      <td>4355</td>\n",
       "      <td>4435</td>\n",
       "      <td>8790</td>\n",
       "    </tr>\n",
       "  </tbody>\n",
       "</table>\n",
       "</div>"
      ],
      "text/plain": [
       "LoanApproved      No  Yes    All\n",
       "Matrial Status                  \n",
       "DP               561   568  1129\n",
       "Divorced         301   304   605\n",
       "Married         2352  2394  4746\n",
       "Single          1079  1115  2194\n",
       "Widowed           62    54   116\n",
       "All             4355  4435  8790"
      ]
     },
     "execution_count": 28,
     "metadata": {},
     "output_type": "execute_result"
    }
   ],
   "source": [
    "#Cantidad de datos por opción de la columna \"Matrial Status\" con relación a \"LoanApproved\"\n",
    "pd.crosstab(index=df['Matrial Status'],\n",
    "            columns=df['LoanApproved'], margins=True)"
   ]
  },
  {
   "cell_type": "code",
   "execution_count": 29,
   "id": "922dfdad-9334-40f5-8538-525beb4e9904",
   "metadata": {},
   "outputs": [
    {
     "data": {
      "image/png": "[encoded data removed]",
      "text/plain": [
       "<Figure size 432x288 with 1 Axes>"
      ]
     },
     "metadata": {
      "needs_background": "light"
     },
     "output_type": "display_data"
    }
   ],
   "source": [
    "#Gráfica representativa de los datos de \"Matrial Status\" con relación a \"LoanApproved\"\n",
    "plot = pd.crosstab(index=df['Matrial Status'],\n",
    "            columns=df['LoanApproved']).plot(kind='bar')"
   ]
  },
  {
   "cell_type": "code",
   "execution_count": 30,
   "id": "81f453ce-2ef7-4919-b801-513d4b179a7d",
   "metadata": {},
   "outputs": [
    {
     "data": {
      "text/html": [
       "<div>\n",
       "<style scoped>\n",
       "    .dataframe tbody tr th:only-of-type {\n",
       "        vertical-align: middle;\n",
       "    }\n",
       "\n",
       "    .dataframe tbody tr th {\n",
       "        vertical-align: top;\n",
       "    }\n",
       "\n",
       "    .dataframe thead th {\n",
       "        text-align: right;\n",
       "    }\n",
       "</style>\n",
       "<table border=\"1\" class=\"dataframe\">\n",
       "  <thead>\n",
       "    <tr style=\"text-align: right;\">\n",
       "      <th>LoanApproved</th>\n",
       "      <th>No</th>\n",
       "      <th>Yes</th>\n",
       "      <th>All</th>\n",
       "    </tr>\n",
       "    <tr>\n",
       "      <th>Income</th>\n",
       "      <th></th>\n",
       "      <th></th>\n",
       "      <th></th>\n",
       "    </tr>\n",
       "  </thead>\n",
       "  <tbody>\n",
       "    <tr>\n",
       "      <th>High</th>\n",
       "      <td>1607</td>\n",
       "      <td>1679</td>\n",
       "      <td>3286</td>\n",
       "    </tr>\n",
       "    <tr>\n",
       "      <th>Low</th>\n",
       "      <td>1090</td>\n",
       "      <td>1106</td>\n",
       "      <td>2196</td>\n",
       "    </tr>\n",
       "    <tr>\n",
       "      <th>Medium</th>\n",
       "      <td>1658</td>\n",
       "      <td>1650</td>\n",
       "      <td>3308</td>\n",
       "    </tr>\n",
       "    <tr>\n",
       "      <th>All</th>\n",
       "      <td>4355</td>\n",
       "      <td>4435</td>\n",
       "      <td>8790</td>\n",
       "    </tr>\n",
       "  </tbody>\n",
       "</table>\n",
       "</div>"
      ],
      "text/plain": [
       "LoanApproved    No  Yes    All\n",
       "Income                        \n",
       "High          1607  1679  3286\n",
       "Low           1090  1106  2196\n",
       "Medium        1658  1650  3308\n",
       "All           4355  4435  8790"
      ]
     },
     "execution_count": 30,
     "metadata": {},
     "output_type": "execute_result"
    }
   ],
   "source": [
    "#Cantidad de datos por opción de la columna \"Income\" con relación a \"LoanApproved\"\n",
    "pd.crosstab(index=df['Income'],\n",
    "            columns=df['LoanApproved'], margins=True)"
   ]
  },
  {
   "cell_type": "code",
   "execution_count": 31,
   "id": "e73db4ce-5d56-4f6a-aeb0-97cb83334217",
   "metadata": {},
   "outputs": [
    {
     "data": {
      "image/png": "[encoded data removed]",
      "text/plain": [
       "<Figure size 432x288 with 1 Axes>"
      ]
     },
     "metadata": {
      "needs_background": "light"
     },
     "output_type": "display_data"
    }
   ],
   "source": [
    "#Gráfica representativa de los datos de \"Income\" con relación a \"LoanApproved\"\n",
    "plot = pd.crosstab(index=df['Income'],\n",
    "            columns=df['LoanApproved']).plot(kind='bar')"
   ]
  },
  {
   "cell_type": "markdown",
   "id": "1a4f83f1-1c0e-4982-83aa-1098b6f34c18",
   "metadata": {},
   "source": [
    "### Pre-Procesamiento"
   ]
  },
  {
   "cell_type": "markdown",
   "id": "95c0f204-b83d-4382-8c36-69aabc49a04b",
   "metadata": {},
   "source": [
    "#### Pasamos las variables categoricas a numericas"
   ]
  },
  {
   "cell_type": "code",
   "execution_count": 32,
   "id": "3f26ba71-96bf-4be9-947a-5bb6e397cc0e",
   "metadata": {},
   "outputs": [],
   "source": [
    "#Utilizamos LabelEncoder para transformar las variables. \n",
    "le = LabelEncoder()"
   ]
  },
  {
   "cell_type": "code",
   "execution_count": 33,
   "id": "99636233-f9e8-42e1-b351-8e00c41bbe8e",
   "metadata": {},
   "outputs": [
    {
     "data": {
      "text/plain": [
       "0    4409\n",
       "1    4381\n",
       "Name: Gender, dtype: int64"
      ]
     },
     "execution_count": 33,
     "metadata": {},
     "output_type": "execute_result"
    }
   ],
   "source": [
    "df['Gender'] = le.fit_transform(df['Gender'])\n",
    "df['Gender'].value_counts()"
   ]
  },
  {
   "cell_type": "markdown",
   "id": "23d77b88-9aef-4bd4-9c30-c4da3bd58d4e",
   "metadata": {},
   "source": [
    "**Donde:**  \n",
    "    0 --> Female  \n",
    "    1 --> Male   "
   ]
  },
  {
   "cell_type": "code",
   "execution_count": 34,
   "id": "6d53c50d-6352-4670-925e-4a88855ec850",
   "metadata": {},
   "outputs": [
    {
     "data": {
      "text/plain": [
       "1    4602\n",
       "6    1265\n",
       "2     970\n",
       "4     786\n",
       "5     606\n",
       "0     461\n",
       "3     100\n",
       "Name: Employment Status, dtype: int64"
      ]
     },
     "execution_count": 34,
     "metadata": {},
     "output_type": "execute_result"
    }
   ],
   "source": [
    "df['Employment Status'] = le.fit_transform(df['Employment Status'])\n",
    "df['Employment Status'].value_counts()"
   ]
  },
  {
   "cell_type": "markdown",
   "id": "ad136c98-2a25-4eb8-85c6-ea81c5e4492c",
   "metadata": {},
   "source": [
    "**Donde:**  \n",
    "    0 --> A Student  \n",
    "    1 --> Full Time  \n",
    "    2 --> Part Time  \n",
    "    3 --> Prefer not to answer  \n",
    "    4 --> Retired  \n",
    "    5 --> Self Employed  \n",
    "    6 --> Unemployed  "
   ]
  },
  {
   "cell_type": "code",
   "execution_count": 35,
   "id": "3d7cb336-ef55-446d-a65e-e90ed1c57098",
   "metadata": {},
   "outputs": [
    {
     "data": {
      "text/plain": [
       "0    3811\n",
       "2    2661\n",
       "1    2318\n",
       "Name: Education, dtype: int64"
      ]
     },
     "execution_count": 35,
     "metadata": {},
     "output_type": "execute_result"
    }
   ],
   "source": [
    "df['Education'] = le.fit_transform(df['Education'])\n",
    "df['Education'].value_counts()"
   ]
  },
  {
   "cell_type": "markdown",
   "id": "c5e1dbaa-d49f-49ef-a879-5257e456a7eb",
   "metadata": {},
   "source": [
    "**Donde:**  \n",
    "    0 --> High  \n",
    "    1 --> Low  \n",
    "    2 --> Medium  "
   ]
  },
  {
   "cell_type": "code",
   "execution_count": 36,
   "id": "23fb7dcf-1df0-4858-ac7c-895833dc5fd3",
   "metadata": {},
   "outputs": [
    {
     "data": {
      "text/plain": [
       "2    4746\n",
       "3    2194\n",
       "0    1129\n",
       "1     605\n",
       "4     116\n",
       "Name: Matrial Status, dtype: int64"
      ]
     },
     "execution_count": 36,
     "metadata": {},
     "output_type": "execute_result"
    }
   ],
   "source": [
    "df['Matrial Status'] = le.fit_transform(df['Matrial Status'])\n",
    "df['Matrial Status'].value_counts()"
   ]
  },
  {
   "cell_type": "markdown",
   "id": "533b6310-5434-4c1d-be92-0c0c7c20529b",
   "metadata": {},
   "source": [
    "**Donde:**  \n",
    "    0 --> DP     \n",
    "    1 --> Divorced  \n",
    "    2 --> Married  \n",
    "    3 --> Single  \n",
    "    4 --> Widowed  "
   ]
  },
  {
   "cell_type": "code",
   "execution_count": 37,
   "id": "09b0bd26-92cd-4c40-9366-30286d00d3e9",
   "metadata": {},
   "outputs": [
    {
     "data": {
      "text/plain": [
       "2    3308\n",
       "0    3286\n",
       "1    2196\n",
       "Name: Income, dtype: int64"
      ]
     },
     "execution_count": 37,
     "metadata": {},
     "output_type": "execute_result"
    }
   ],
   "source": [
    "df['Income'] = le.fit_transform(df['Income'])\n",
    "df['Income'].value_counts()"
   ]
  },
  {
   "cell_type": "markdown",
   "id": "f608aed5-ec73-4315-a7f8-30ad33f54456",
   "metadata": {},
   "source": [
    "**Donde:**  \n",
    "    0 --> High  \n",
    "    1 --> Low  \n",
    "    2 --> Medium  "
   ]
  },
  {
   "cell_type": "code",
   "execution_count": 38,
   "id": "46aa25b2-a16b-43c6-a269-794862a0a43a",
   "metadata": {},
   "outputs": [
    {
     "data": {
      "text/plain": [
       "1    4435\n",
       "0    4355\n",
       "Name: LoanApproved, dtype: int64"
      ]
     },
     "execution_count": 38,
     "metadata": {},
     "output_type": "execute_result"
    }
   ],
   "source": [
    "df['LoanApproved'] = le.fit_transform(df['LoanApproved'])\n",
    "df['LoanApproved'].value_counts()"
   ]
  },
  {
   "cell_type": "markdown",
   "id": "9d63e6f3-cd2e-47e9-a4c1-9579a9596dd6",
   "metadata": {},
   "source": [
    "**Donde:**  \n",
    "    0 --> Yes    \n",
    "    1 --> No  "
   ]
  },
  {
   "cell_type": "code",
   "execution_count": 39,
   "id": "a8857a8d-2d2f-4779-b0c9-e67690df88d6",
   "metadata": {},
   "outputs": [
    {
     "data": {
      "text/html": [
       "<div>\n",
       "<style scoped>\n",
       "    .dataframe tbody tr th:only-of-type {\n",
       "        vertical-align: middle;\n",
       "    }\n",
       "\n",
       "    .dataframe tbody tr th {\n",
       "        vertical-align: top;\n",
       "    }\n",
       "\n",
       "    .dataframe thead th {\n",
       "        text-align: right;\n",
       "    }\n",
       "</style>\n",
       "<table border=\"1\" class=\"dataframe\">\n",
       "  <thead>\n",
       "    <tr style=\"text-align: right;\">\n",
       "      <th></th>\n",
       "      <th>Gender</th>\n",
       "      <th>Age</th>\n",
       "      <th>Employment Status</th>\n",
       "      <th>Education</th>\n",
       "      <th>Matrial Status</th>\n",
       "      <th>Income</th>\n",
       "      <th>LoanApproved</th>\n",
       "    </tr>\n",
       "  </thead>\n",
       "  <tbody>\n",
       "    <tr>\n",
       "      <th>0</th>\n",
       "      <td>1</td>\n",
       "      <td>27</td>\n",
       "      <td>1</td>\n",
       "      <td>0</td>\n",
       "      <td>3</td>\n",
       "      <td>2</td>\n",
       "      <td>1</td>\n",
       "    </tr>\n",
       "    <tr>\n",
       "      <th>1</th>\n",
       "      <td>1</td>\n",
       "      <td>60</td>\n",
       "      <td>1</td>\n",
       "      <td>2</td>\n",
       "      <td>2</td>\n",
       "      <td>0</td>\n",
       "      <td>0</td>\n",
       "    </tr>\n",
       "    <tr>\n",
       "      <th>2</th>\n",
       "      <td>1</td>\n",
       "      <td>25</td>\n",
       "      <td>1</td>\n",
       "      <td>0</td>\n",
       "      <td>3</td>\n",
       "      <td>2</td>\n",
       "      <td>0</td>\n",
       "    </tr>\n",
       "    <tr>\n",
       "      <th>3</th>\n",
       "      <td>1</td>\n",
       "      <td>35</td>\n",
       "      <td>1</td>\n",
       "      <td>0</td>\n",
       "      <td>3</td>\n",
       "      <td>0</td>\n",
       "      <td>1</td>\n",
       "    </tr>\n",
       "    <tr>\n",
       "      <th>4</th>\n",
       "      <td>0</td>\n",
       "      <td>50</td>\n",
       "      <td>6</td>\n",
       "      <td>1</td>\n",
       "      <td>0</td>\n",
       "      <td>2</td>\n",
       "      <td>0</td>\n",
       "    </tr>\n",
       "  </tbody>\n",
       "</table>\n",
       "</div>"
      ],
      "text/plain": [
       "   Gender  Age  Employment Status  Education  Matrial Status  Income  \\\n",
       "0       1   27                  1          0               3       2   \n",
       "1       1   60                  1          2               2       0   \n",
       "2       1   25                  1          0               3       2   \n",
       "3       1   35                  1          0               3       0   \n",
       "4       0   50                  6          1               0       2   \n",
       "\n",
       "   LoanApproved  \n",
       "0             1  \n",
       "1             0  \n",
       "2             0  \n",
       "3             1  \n",
       "4             0  "
      ]
     },
     "execution_count": 39,
     "metadata": {},
     "output_type": "execute_result"
    }
   ],
   "source": [
    "#Observamos nuestro nuevo dataset. \n",
    "df.head(5)  "
   ]
  },
  {
   "cell_type": "code",
   "execution_count": 40,
   "id": "fb41761c-67fc-463b-80b8-a4646d764428",
   "metadata": {},
   "outputs": [
    {
     "data": {
      "text/html": [
       "<div>\n",
       "<style scoped>\n",
       "    .dataframe tbody tr th:only-of-type {\n",
       "        vertical-align: middle;\n",
       "    }\n",
       "\n",
       "    .dataframe tbody tr th {\n",
       "        vertical-align: top;\n",
       "    }\n",
       "\n",
       "    .dataframe thead th {\n",
       "        text-align: right;\n",
       "    }\n",
       "</style>\n",
       "<table border=\"1\" class=\"dataframe\">\n",
       "  <thead>\n",
       "    <tr style=\"text-align: right;\">\n",
       "      <th></th>\n",
       "      <th>Gender</th>\n",
       "      <th>Age</th>\n",
       "      <th>Employment Status</th>\n",
       "      <th>Education</th>\n",
       "      <th>Matrial Status</th>\n",
       "      <th>Income</th>\n",
       "      <th>LoanApproved</th>\n",
       "    </tr>\n",
       "  </thead>\n",
       "  <tbody>\n",
       "    <tr>\n",
       "      <th>count</th>\n",
       "      <td>8790.000000</td>\n",
       "      <td>8790.000000</td>\n",
       "      <td>8790.000000</td>\n",
       "      <td>8790.00000</td>\n",
       "      <td>8790.000000</td>\n",
       "      <td>8790.000000</td>\n",
       "      <td>8790.000000</td>\n",
       "    </tr>\n",
       "    <tr>\n",
       "      <th>mean</th>\n",
       "      <td>0.498407</td>\n",
       "      <td>41.828100</td>\n",
       "      <td>2.344255</td>\n",
       "      <td>0.86917</td>\n",
       "      <td>1.950284</td>\n",
       "      <td>1.002503</td>\n",
       "      <td>0.504551</td>\n",
       "    </tr>\n",
       "    <tr>\n",
       "      <th>std</th>\n",
       "      <td>0.500026</td>\n",
       "      <td>12.534015</td>\n",
       "      <td>1.976719</td>\n",
       "      <td>0.84809</td>\n",
       "      <td>0.939474</td>\n",
       "      <td>0.866170</td>\n",
       "      <td>0.500008</td>\n",
       "    </tr>\n",
       "    <tr>\n",
       "      <th>min</th>\n",
       "      <td>0.000000</td>\n",
       "      <td>20.000000</td>\n",
       "      <td>0.000000</td>\n",
       "      <td>0.00000</td>\n",
       "      <td>0.000000</td>\n",
       "      <td>0.000000</td>\n",
       "      <td>0.000000</td>\n",
       "    </tr>\n",
       "    <tr>\n",
       "      <th>25%</th>\n",
       "      <td>0.000000</td>\n",
       "      <td>31.000000</td>\n",
       "      <td>1.000000</td>\n",
       "      <td>0.00000</td>\n",
       "      <td>2.000000</td>\n",
       "      <td>0.000000</td>\n",
       "      <td>0.000000</td>\n",
       "    </tr>\n",
       "    <tr>\n",
       "      <th>50%</th>\n",
       "      <td>0.000000</td>\n",
       "      <td>41.000000</td>\n",
       "      <td>1.000000</td>\n",
       "      <td>1.00000</td>\n",
       "      <td>2.000000</td>\n",
       "      <td>1.000000</td>\n",
       "      <td>1.000000</td>\n",
       "    </tr>\n",
       "    <tr>\n",
       "      <th>75%</th>\n",
       "      <td>1.000000</td>\n",
       "      <td>53.000000</td>\n",
       "      <td>4.000000</td>\n",
       "      <td>2.00000</td>\n",
       "      <td>3.000000</td>\n",
       "      <td>2.000000</td>\n",
       "      <td>1.000000</td>\n",
       "    </tr>\n",
       "    <tr>\n",
       "      <th>max</th>\n",
       "      <td>1.000000</td>\n",
       "      <td>64.000000</td>\n",
       "      <td>6.000000</td>\n",
       "      <td>2.00000</td>\n",
       "      <td>4.000000</td>\n",
       "      <td>2.000000</td>\n",
       "      <td>1.000000</td>\n",
       "    </tr>\n",
       "  </tbody>\n",
       "</table>\n",
       "</div>"
      ],
      "text/plain": [
       "            Gender          Age  Employment Status   Education  \\\n",
       "count  8790.000000  8790.000000        8790.000000  8790.00000   \n",
       "mean      0.498407    41.828100           2.344255     0.86917   \n",
       "std       0.500026    12.534015           1.976719     0.84809   \n",
       "min       0.000000    20.000000           0.000000     0.00000   \n",
       "25%       0.000000    31.000000           1.000000     0.00000   \n",
       "50%       0.000000    41.000000           1.000000     1.00000   \n",
       "75%       1.000000    53.000000           4.000000     2.00000   \n",
       "max       1.000000    64.000000           6.000000     2.00000   \n",
       "\n",
       "       Matrial Status       Income  LoanApproved  \n",
       "count     8790.000000  8790.000000   8790.000000  \n",
       "mean         1.950284     1.002503      0.504551  \n",
       "std          0.939474     0.866170      0.500008  \n",
       "min          0.000000     0.000000      0.000000  \n",
       "25%          2.000000     0.000000      0.000000  \n",
       "50%          2.000000     1.000000      1.000000  \n",
       "75%          3.000000     2.000000      1.000000  \n",
       "max          4.000000     2.000000      1.000000  "
      ]
     },
     "execution_count": 40,
     "metadata": {},
     "output_type": "execute_result"
    }
   ],
   "source": [
    "#Vemos algunos datos estadisticos. \n",
    "df.describe()"
   ]
  },
  {
   "cell_type": "code",
   "execution_count": 41,
   "id": "55eb8797-3be8-410e-89b7-e0ea39eb09fa",
   "metadata": {},
   "outputs": [
    {
     "data": {
      "image/png": "[encoded data removed]",
      "text/plain": [
       "<Figure size 864x648 with 2 Axes>"
      ]
     },
     "metadata": {
      "needs_background": "light"
     },
     "output_type": "display_data"
    }
   ],
   "source": [
    "#Matriz de correlación.\n",
    "corrmat = df.corr()\n",
    "f, ax = plt.subplots(figsize=(12, 9))\n",
    "sns.heatmap(corrmat, vmax=.8, square=True);"
   ]
  },
  {
   "cell_type": "markdown",
   "id": "4880cc75-715b-4ac4-9fdc-6a295e14e75f",
   "metadata": {},
   "source": [
    "#### Separación de Datos"
   ]
  },
  {
   "cell_type": "code",
   "execution_count": 42,
   "id": "5111a257-f8ca-40c9-a1de-3b92e744db57",
   "metadata": {},
   "outputs": [],
   "source": [
    "#Seleccionamos y separamos en 'x' y 'y' los datos que vamos a utilizar en los modelos. \n",
    "x = df.drop('LoanApproved', axis=1)\n",
    "y = df['LoanApproved']"
   ]
  },
  {
   "cell_type": "code",
   "execution_count": 43,
   "id": "c38966a6-27d8-4c25-80cb-11cd69a93a8c",
   "metadata": {},
   "outputs": [],
   "source": [
    "#Separamos los datos, en train con el 55% y test con el 45%. \n",
    "xTrain, xTest, yTrain, yTest = train_test_split(x, y, test_size=0.45, random_state=123)"
   ]
  },
  {
   "cell_type": "code",
   "execution_count": 44,
   "id": "252dad05-8a98-42c2-89b2-1a953fd84c16",
   "metadata": {},
   "outputs": [],
   "source": [
    "#Separamos los datos en train, test y validation para obtener mejores resultados, quedando 55% train, 30% test y 15% validation.  \n",
    "xVal, xTest, yVal, yTest = train_test_split(xTest, yTest, test_size=0.6666, random_state=123) "
   ]
  },
  {
   "cell_type": "code",
   "execution_count": 45,
   "id": "d670404b-aa49-4a4c-a727-14a0b7ddd62a",
   "metadata": {},
   "outputs": [
    {
     "name": "stdout",
     "output_type": "stream",
     "text": [
      "Cantidad de datos por grupo: \n",
      "Train: 4834\n",
      "Test: 2638\n",
      "Validation: 1318\n"
     ]
    }
   ],
   "source": [
    "print('Cantidad de datos por grupo: ')\n",
    "print('Train:', len(yTrain))\n",
    "print('Test:', len(yTest))\n",
    "print('Validation:', len(yVal))"
   ]
  },
  {
   "cell_type": "markdown",
   "id": "56f0c66a-0a7d-44c3-b5bb-226354902846",
   "metadata": {},
   "source": [
    "#### Estandarización y normalización de los datos:"
   ]
  },
  {
   "cell_type": "code",
   "execution_count": 46,
   "id": "0ae81cb7-7929-4fa6-9780-b20e2ee90bde",
   "metadata": {},
   "outputs": [],
   "source": [
    "#Estandarizamos los datos. \n",
    "dataS = StandardScaler()\n",
    "xTrain = dataS.fit_transform(xTrain)\n",
    "xTest = dataS.transform(xTest)\n",
    "xVal = dataS.transform(xVal)"
   ]
  },
  {
   "cell_type": "code",
   "execution_count": 47,
   "id": "0d278084-13f7-40c8-95e9-2e98c155e08a",
   "metadata": {},
   "outputs": [],
   "source": [
    "#Normalizamos los datos. \n",
    "xTrain = normalize(xTrain)\n",
    "xTest = normalize(xTest)\n",
    "xVal = normalize(xVal)"
   ]
  },
  {
   "cell_type": "code",
   "execution_count": 48,
   "id": "e743e85a-6025-4126-baa2-309851c64052",
   "metadata": {},
   "outputs": [
    {
     "data": {
      "text/plain": [
       "1    2468\n",
       "0    2366\n",
       "Name: LoanApproved, dtype: int64"
      ]
     },
     "execution_count": 48,
     "metadata": {},
     "output_type": "execute_result"
    }
   ],
   "source": [
    "#Verificamos que los datos esten balanceados. \n",
    "yTrain.value_counts()"
   ]
  },
  {
   "cell_type": "markdown",
   "id": "d368d821-9bab-4144-8f93-390e2295919a",
   "metadata": {},
   "source": [
    "### Modelos"
   ]
  },
  {
   "cell_type": "code",
   "execution_count": 49,
   "id": "423d0e3e-fa0c-4293-84c7-3675bc1513ef",
   "metadata": {},
   "outputs": [],
   "source": [
    "#Creamos una función para hacer nuestras gráficas ROC. \n",
    "#https://www.delftstack.com/es/howto/python/plot-roc-curve-python/\n",
    "def roc(model, xTest, yTest, name):\n",
    "    n_classes = 2\n",
    "    fpr = dict()\n",
    "    tpr = dict()\n",
    "    for i in range(n_classes):\n",
    "        fpr[i], tpr[i], _ = roc_curve(yTest, model.predict_proba(xTest)[:,i], pos_label=i)\n",
    "    plt.plot(fpr[0], tpr[0], color='orange', linestyle='--', label='Prestamo Aprovado')\n",
    "    plt.plot(fpr[1], tpr[1], color='green', linestyle='--', label='Prestamo Negado')\n",
    "    plt.xlabel('False Positive Rate')\n",
    "    plt.ylabel('True Positive Rate')\n",
    "    plt.title('ROC Curve')\n",
    "    plt.legend(loc='best')\n",
    "    plt.savefig(name,dpi=300)\n",
    "    plt.show()"
   ]
  },
  {
   "cell_type": "markdown",
   "id": "502451ff-9702-42a8-b422-ec4232accd02",
   "metadata": {},
   "source": [
    "#### Modelo 1: Random Forest Classifier  "
   ]
  },
  {
   "cell_type": "code",
   "execution_count": 50,
   "id": "4bfcdd85-51bc-44a4-914e-2a2fbece3f28",
   "metadata": {},
   "outputs": [
    {
     "data": {
      "text/plain": [
       "RandomForestClassifier(random_state=0)"
      ]
     },
     "execution_count": 50,
     "metadata": {},
     "output_type": "execute_result"
    }
   ],
   "source": [
    "#Definimos el modelo.\n",
    "modeloRFC = RandomForestClassifier(n_estimators=100, random_state=0)\n",
    "modeloRFC.fit(xTrain, yTrain)"
   ]
  },
  {
   "cell_type": "markdown",
   "id": "361b9232-8c0e-44c0-ba7e-3e10f113e2b1",
   "metadata": {},
   "source": [
    "##### Datos de Prueba"
   ]
  },
  {
   "cell_type": "code",
   "execution_count": 51,
   "id": "1fd039db-4482-4044-a436-d9bb2b32d92d",
   "metadata": {},
   "outputs": [
    {
     "name": "stdout",
     "output_type": "stream",
     "text": [
      "[[643 701]\n",
      " [643 651]]\n"
     ]
    },
    {
     "data": {
      "text/plain": [
       "<AxesSubplot:>"
      ]
     },
     "execution_count": 51,
     "metadata": {},
     "output_type": "execute_result"
    },
    {
     "data": {
      "image/png": "[encoded data removed]",
      "text/plain": [
       "<Figure size 432x288 with 2 Axes>"
      ]
     },
     "metadata": {
      "needs_background": "light"
     },
     "output_type": "display_data"
    }
   ],
   "source": [
    "#Hacemos una predicción \n",
    "yPred = modeloRFC.predict(xTest)\n",
    "\n",
    "#Calculamos la Matriz de Confusión \n",
    "cf_matrix = confusion_matrix(yTest, yPred)\n",
    "print(cf_matrix)\n",
    "sns.heatmap(cf_matrix, cmap='Blues', annot=True)"
   ]
  },
  {
   "cell_type": "code",
   "execution_count": 52,
   "id": "9de7cf2a-ecc0-4faf-a219-0da07825001e",
   "metadata": {},
   "outputs": [
    {
     "name": "stdout",
     "output_type": "stream",
     "text": [
      "Test Accuracy: 0.49052312357846856\n"
     ]
    }
   ],
   "source": [
    "#Calculamos el Accuracy\n",
    "print('Test Accuracy:', accuracy_score(yTest, yPred))"
   ]
  },
  {
   "cell_type": "code",
   "execution_count": 53,
   "id": "7e591d83-c1ea-448c-81d2-0cc830233222",
   "metadata": {},
   "outputs": [
    {
     "name": "stdout",
     "output_type": "stream",
     "text": [
      "              precision    recall  f1-score   support\n",
      "\n",
      "           0       0.50      0.48      0.49      1344\n",
      "           1       0.48      0.50      0.49      1294\n",
      "\n",
      "    accuracy                           0.49      2638\n",
      "   macro avg       0.49      0.49      0.49      2638\n",
      "weighted avg       0.49      0.49      0.49      2638\n",
      "\n"
     ]
    }
   ],
   "source": [
    "#Vemos el reporte de los resultados.\n",
    "print(classification_report(yTest, yPred))"
   ]
  },
  {
   "cell_type": "markdown",
   "id": "b023a625-d784-419d-bc3b-9cc8b73472e4",
   "metadata": {},
   "source": [
    "##### Datos de Validación "
   ]
  },
  {
   "cell_type": "code",
   "execution_count": 54,
   "id": "3dd1ebff-ff7f-4e31-abe8-910c19ce8ebb",
   "metadata": {},
   "outputs": [
    {
     "name": "stdout",
     "output_type": "stream",
     "text": [
      "[[342 303]\n",
      " [319 354]]\n"
     ]
    },
    {
     "data": {
      "text/plain": [
       "<AxesSubplot:>"
      ]
     },
     "execution_count": 54,
     "metadata": {},
     "output_type": "execute_result"
    },
    {
     "data": {
      "image/png": "[encoded data removed]",
      "text/plain": [
       "<Figure size 432x288 with 2 Axes>"
      ]
     },
     "metadata": {
      "needs_background": "light"
     },
     "output_type": "display_data"
    }
   ],
   "source": [
    "#Hacemos una predicción \n",
    "yPred = modeloRFC.predict(xVal)\n",
    "\n",
    "#Calculamos la Matriz de Confusión \n",
    "cf_matrix = confusion_matrix(yVal, yPred)\n",
    "print(cf_matrix)\n",
    "sns.heatmap(cf_matrix, cmap='Blues', annot=True)"
   ]
  },
  {
   "cell_type": "code",
   "execution_count": 55,
   "id": "42539b88-67b4-4f7b-9c78-5aacbddaa6a9",
   "metadata": {},
   "outputs": [
    {
     "name": "stdout",
     "output_type": "stream",
     "text": [
      "Validation Accuracy: 0.5280728376327769\n"
     ]
    }
   ],
   "source": [
    "#Calculamos el Accuracy\n",
    "print('Validation Accuracy:', accuracy_score(yVal, yPred))"
   ]
  },
  {
   "cell_type": "code",
   "execution_count": 56,
   "id": "eac1507e-696b-4f28-b6f3-df2e545b2acd",
   "metadata": {},
   "outputs": [
    {
     "name": "stdout",
     "output_type": "stream",
     "text": [
      "              precision    recall  f1-score   support\n",
      "\n",
      "           0       0.52      0.53      0.52       645\n",
      "           1       0.54      0.53      0.53       673\n",
      "\n",
      "    accuracy                           0.53      1318\n",
      "   macro avg       0.53      0.53      0.53      1318\n",
      "weighted avg       0.53      0.53      0.53      1318\n",
      "\n"
     ]
    }
   ],
   "source": [
    "#Vemos el reporte de los resultados.\n",
    "print(classification_report(yVal, yPred))"
   ]
  },
  {
   "cell_type": "markdown",
   "id": "129ea256-1081-42b4-962e-9313d219cbec",
   "metadata": {},
   "source": [
    "##### k-Fold Cross Validation"
   ]
  },
  {
   "cell_type": "code",
   "execution_count": 57,
   "id": "376bfb89-01c6-4bf9-a24d-a5a33d82ca65",
   "metadata": {},
   "outputs": [
    {
     "name": "stdout",
     "output_type": "stream",
     "text": [
      "La media del score es: 0.497 ±(0.013)\n"
     ]
    }
   ],
   "source": [
    "cv = KFold(n_splits=10, random_state=33, shuffle=True)\n",
    "cv.get_n_splits(x)\n",
    "scores = cross_val_score(modeloRFC, x, y, cv=cv)\n",
    "print('La media del score es: %.3f ±(%.3f)' % (np.mean(scores), np.std(scores)))"
   ]
  },
  {
   "cell_type": "markdown",
   "id": "e5cdda00-de6f-4464-8156-be74efe8df35",
   "metadata": {},
   "source": [
    "##### Gráfica de la curva ROC "
   ]
  },
  {
   "cell_type": "code",
   "execution_count": 58,
   "id": "50083d69-1fec-46b9-b2c6-9037db1484b7",
   "metadata": {},
   "outputs": [
    {
     "data": {
      "image/png": "[encoded data removed]",
      "text/plain": [
       "<Figure size 432x288 with 1 Axes>"
      ]
     },
     "metadata": {
      "needs_background": "light"
     },
     "output_type": "display_data"
    }
   ],
   "source": [
    "#Realizamos la grafica para el modelo.\n",
    "roc(modeloRFC, xTest, yTest, 'ROC-RFC')"
   ]
  },
  {
   "cell_type": "markdown",
   "id": "643d1294-bb53-4cfb-ab91-0a0b33e6ea59",
   "metadata": {},
   "source": [
    "#### Modelo 2: Regresión Logística"
   ]
  },
  {
   "cell_type": "code",
   "execution_count": 59,
   "id": "0f07201c-5110-4ba5-813f-10ec8d4fd423",
   "metadata": {},
   "outputs": [
    {
     "data": {
      "text/plain": [
       "LogisticRegression(random_state=0)"
      ]
     },
     "execution_count": 59,
     "metadata": {},
     "output_type": "execute_result"
    }
   ],
   "source": [
    "#Definimos el modelo.\n",
    "from sklearn.linear_model import LogisticRegression\n",
    "modeloRL = LogisticRegression(random_state=0)\n",
    "modeloRL.fit(xTrain, yTrain)"
   ]
  },
  {
   "cell_type": "markdown",
   "id": "15729528-a151-4b18-8625-b6981b0105ab",
   "metadata": {},
   "source": [
    "##### Datos de Prueba"
   ]
  },
  {
   "cell_type": "code",
   "execution_count": 60,
   "id": "51e42d11-5a3e-404d-a997-53cac15170cc",
   "metadata": {},
   "outputs": [
    {
     "name": "stdout",
     "output_type": "stream",
     "text": [
      "[[349 995]\n",
      " [337 957]]\n"
     ]
    },
    {
     "data": {
      "text/plain": [
       "<AxesSubplot:>"
      ]
     },
     "execution_count": 60,
     "metadata": {},
     "output_type": "execute_result"
    },
    {
     "data": {
      "image/png": "[encoded data removed]",
      "text/plain": [
       "<Figure size 432x288 with 2 Axes>"
      ]
     },
     "metadata": {
      "needs_background": "light"
     },
     "output_type": "display_data"
    }
   ],
   "source": [
    "#Hacemos una predicción \n",
    "yPred = modeloRL.predict(xTest)\n",
    "\n",
    "#Calculamos la Matriz de Confusión \n",
    "cf_matrix = confusion_matrix(yTest, yPred)\n",
    "print(cf_matrix)\n",
    "sns.heatmap(cf_matrix, cmap='Blues', annot=True)"
   ]
  },
  {
   "cell_type": "code",
   "execution_count": 61,
   "id": "611b2391-c255-44a9-97c3-c4a24a746955",
   "metadata": {},
   "outputs": [
    {
     "name": "stdout",
     "output_type": "stream",
     "text": [
      "Test Accuracy: 0.49507202426080366\n"
     ]
    }
   ],
   "source": [
    "#Calculamos el Accuracy\n",
    "print('Test Accuracy:', accuracy_score(yTest, yPred))"
   ]
  },
  {
   "cell_type": "code",
   "execution_count": 62,
   "id": "ae49f828-9087-4dce-8a59-b20a71097274",
   "metadata": {},
   "outputs": [
    {
     "name": "stdout",
     "output_type": "stream",
     "text": [
      "              precision    recall  f1-score   support\n",
      "\n",
      "           0       0.51      0.26      0.34      1344\n",
      "           1       0.49      0.74      0.59      1294\n",
      "\n",
      "    accuracy                           0.50      2638\n",
      "   macro avg       0.50      0.50      0.47      2638\n",
      "weighted avg       0.50      0.50      0.46      2638\n",
      "\n"
     ]
    }
   ],
   "source": [
    "#Vemos el reporte de los resultados.\n",
    "print(classification_report(yTest, yPred))"
   ]
  },
  {
   "cell_type": "markdown",
   "id": "3bb56228-63c0-40fd-9142-3fe49fcf2dbb",
   "metadata": {},
   "source": [
    "##### Datos de Validación  "
   ]
  },
  {
   "cell_type": "code",
   "execution_count": 63,
   "id": "d0196189-7e36-49bc-b0dc-e45edc78dc9f",
   "metadata": {},
   "outputs": [
    {
     "name": "stdout",
     "output_type": "stream",
     "text": [
      "[[138 507]\n",
      " [170 503]]\n"
     ]
    },
    {
     "data": {
      "text/plain": [
       "<AxesSubplot:>"
      ]
     },
     "execution_count": 63,
     "metadata": {},
     "output_type": "execute_result"
    },
    {
     "data": {
      "image/png": "[encoded data removed]",
      "text/plain": [
       "<Figure size 432x288 with 2 Axes>"
      ]
     },
     "metadata": {
      "needs_background": "light"
     },
     "output_type": "display_data"
    }
   ],
   "source": [
    "#Hacemos una predicción \n",
    "yPred = modeloRL.predict(xVal)\n",
    "\n",
    "#Calculamos la Matriz de Confusión \n",
    "cf_matrix = confusion_matrix(yVal, yPred)\n",
    "print(cf_matrix)\n",
    "sns.heatmap(cf_matrix, cmap='Blues', annot=True)"
   ]
  },
  {
   "cell_type": "code",
   "execution_count": 64,
   "id": "9147064d-a1dd-40d2-a1f4-e2d8a93c79c8",
   "metadata": {},
   "outputs": [
    {
     "name": "stdout",
     "output_type": "stream",
     "text": [
      "Test Accuracy: 0.48634294385432475\n"
     ]
    }
   ],
   "source": [
    "#Calculamos el Accuracy\n",
    "print('Validation Accuracy:', accuracy_score(yVal, yPred))"
   ]
  },
  {
   "cell_type": "code",
   "execution_count": 65,
   "id": "b23d8bce-4a75-4997-a3d6-d15498a2af1f",
   "metadata": {},
   "outputs": [
    {
     "name": "stdout",
     "output_type": "stream",
     "text": [
      "              precision    recall  f1-score   support\n",
      "\n",
      "           0       0.45      0.21      0.29       645\n",
      "           1       0.50      0.75      0.60       673\n",
      "\n",
      "    accuracy                           0.49      1318\n",
      "   macro avg       0.47      0.48      0.44      1318\n",
      "weighted avg       0.47      0.49      0.45      1318\n",
      "\n"
     ]
    }
   ],
   "source": [
    "#Vemos el reporte de los resultados.\n",
    "print(classification_report(yVal, yPred))"
   ]
  },
  {
   "cell_type": "markdown",
   "id": "9cdf583c-deef-4fba-8a2e-4b6f8f78f6b2",
   "metadata": {},
   "source": [
    "##### k-Fold Cross Validation"
   ]
  },
  {
   "cell_type": "code",
   "execution_count": 66,
   "id": "d7b7cc28-c5a0-4e7d-80ce-9f371ae7c975",
   "metadata": {},
   "outputs": [
    {
     "name": "stdout",
     "output_type": "stream",
     "text": [
      "La media del score es: 0.495 ±(0.012)\n"
     ]
    }
   ],
   "source": [
    "cv = KFold(n_splits=10, random_state=33, shuffle=True)\n",
    "cv.get_n_splits(x)\n",
    "scores = cross_val_score(modeloRL, x, y, cv=cv)\n",
    "print('La media del score es: %.3f ±(%.3f)' % (np.mean(scores), np.std(scores)))"
   ]
  },
  {
   "cell_type": "markdown",
   "id": "7807dd05-f434-4d07-9455-51249d2f61a8",
   "metadata": {},
   "source": [
    "##### Gráfica de la curva ROC "
   ]
  },
  {
   "cell_type": "code",
   "execution_count": 67,
   "id": "a4a09fb4-0db1-417c-8a69-0798944f568d",
   "metadata": {},
   "outputs": [
    {
     "data": {
      "image/png": "[encoded data removed]",
      "text/plain": [
       "<Figure size 432x288 with 1 Axes>"
      ]
     },
     "metadata": {
      "needs_background": "light"
     },
     "output_type": "display_data"
    }
   ],
   "source": [
    "#Realizamos la grafica para el modelo.\n",
    "roc(modeloRL, xTest, yTest, 'ROC-RL')"
   ]
  },
  {
   "cell_type": "markdown",
   "id": "20e331dd-9407-4570-97f5-892654b3775e",
   "metadata": {},
   "source": [
    "#### Modelo 3: Support Vector Machine - Classification"
   ]
  },
  {
   "cell_type": "code",
   "execution_count": 94,
   "id": "008967d4-a43f-4d8a-921a-e347caaccfd0",
   "metadata": {},
   "outputs": [
    {
     "data": {
      "text/plain": [
       "SVC(C=100, kernel='linear', random_state=123)"
      ]
     },
     "execution_count": 94,
     "metadata": {},
     "output_type": "execute_result"
    }
   ],
   "source": [
    "#Definimos el modelo.\n",
    "modeloSVC = SVC(C = 100, kernel = 'linear', random_state=123)\n",
    "modeloSVC.fit(xTrain, yTrain)"
   ]
  },
  {
   "cell_type": "markdown",
   "id": "4de514ab-6ee2-4d3b-86fe-46da63a01cfb",
   "metadata": {},
   "source": [
    "##### Datos de Prueba"
   ]
  },
  {
   "cell_type": "code",
   "execution_count": 95,
   "id": "426b5fd3-7e0f-43d7-8a59-3d22d6edb024",
   "metadata": {},
   "outputs": [
    {
     "name": "stdout",
     "output_type": "stream",
     "text": [
      "[[   0 1344]\n",
      " [   0 1294]]\n"
     ]
    },
    {
     "data": {
      "text/plain": [
       "<AxesSubplot:>"
      ]
     },
     "execution_count": 95,
     "metadata": {},
     "output_type": "execute_result"
    },
    {
     "data": {
      "image/png": "[encoded data removed]",
      "text/plain": [
       "<Figure size 432x288 with 2 Axes>"
      ]
     },
     "metadata": {
      "needs_background": "light"
     },
     "output_type": "display_data"
    }
   ],
   "source": [
    "#Hacemos una predicción \n",
    "yPred = modeloSVC.predict(xTest)\n",
    "\n",
    "#Calculamos la Matriz de Confusión \n",
    "cf_matrix = confusion_matrix(yTest, yPred)\n",
    "print(cf_matrix)\n",
    "sns.heatmap(cf_matrix, cmap='Blues', annot=True)"
   ]
  },
  {
   "cell_type": "code",
   "execution_count": 96,
   "id": "c15432bb-ee1d-462e-9dc2-608e163b2637",
   "metadata": {},
   "outputs": [
    {
     "name": "stdout",
     "output_type": "stream",
     "text": [
      "Test Accuracy: 0.49052312357846856\n"
     ]
    }
   ],
   "source": [
    "#Calculamos el Accuracy\n",
    "print('Test Accuracy:', accuracy_score(yTest, yPred))"
   ]
  },
  {
   "cell_type": "code",
   "execution_count": 97,
   "id": "2aa80a78-448a-4f01-a975-7b1f03d7c388",
   "metadata": {},
   "outputs": [
    {
     "name": "stdout",
     "output_type": "stream",
     "text": [
      "              precision    recall  f1-score   support\n",
      "\n",
      "           0       0.00      0.00      0.00      1344\n",
      "           1       0.49      1.00      0.66      1294\n",
      "\n",
      "    accuracy                           0.49      2638\n",
      "   macro avg       0.25      0.50      0.33      2638\n",
      "weighted avg       0.24      0.49      0.32      2638\n",
      "\n"
     ]
    },
    {
     "name": "stderr",
     "output_type": "stream",
     "text": [
      "C:\\Users\\alexa\\anaconda3\\lib\\site-packages\\sklearn\\metrics\\_classification.py:1245: UndefinedMetricWarning: Precision and F-score are ill-defined and being set to 0.0 in labels with no predicted samples. Use `zero_division` parameter to control this behavior.\n",
      "  _warn_prf(average, modifier, msg_start, len(result))\n",
      "C:\\Users\\alexa\\anaconda3\\lib\\site-packages\\sklearn\\metrics\\_classification.py:1245: UndefinedMetricWarning: Precision and F-score are ill-defined and being set to 0.0 in labels with no predicted samples. Use `zero_division` parameter to control this behavior.\n",
      "  _warn_prf(average, modifier, msg_start, len(result))\n",
      "C:\\Users\\alexa\\anaconda3\\lib\\site-packages\\sklearn\\metrics\\_classification.py:1245: UndefinedMetricWarning: Precision and F-score are ill-defined and being set to 0.0 in labels with no predicted samples. Use `zero_division` parameter to control this behavior.\n",
      "  _warn_prf(average, modifier, msg_start, len(result))\n"
     ]
    }
   ],
   "source": [
    "#Vemos el reporte de los resultados.\n",
    "print(classification_report(yTest, yPred))"
   ]
  },
  {
   "cell_type": "markdown",
   "id": "92b703c3-f057-4ef3-bb81-4c75c0889fce",
   "metadata": {},
   "source": [
    "##### Datos de Validación "
   ]
  },
  {
   "cell_type": "code",
   "execution_count": 98,
   "id": "b9a7ff6b-db12-4a1b-b89f-cca6b30cdc4c",
   "metadata": {},
   "outputs": [
    {
     "name": "stdout",
     "output_type": "stream",
     "text": [
      "[[  0 645]\n",
      " [  0 673]]\n"
     ]
    },
    {
     "data": {
      "text/plain": [
       "<AxesSubplot:>"
      ]
     },
     "execution_count": 98,
     "metadata": {},
     "output_type": "execute_result"
    },
    {
     "data": {
      "image/png": "[encoded data removed]",
      "text/plain": [
       "<Figure size 432x288 with 2 Axes>"
      ]
     },
     "metadata": {
      "needs_background": "light"
     },
     "output_type": "display_data"
    }
   ],
   "source": [
    "#Hacemos una predicción \n",
    "yPred = modeloSVC.predict(xVal)\n",
    "\n",
    "#Calculamos la Matriz de Confusión \n",
    "cf_matrix = confusion_matrix(yVal, yPred)\n",
    "print(cf_matrix)\n",
    "sns.heatmap(cf_matrix, cmap='Blues', annot=True)"
   ]
  },
  {
   "cell_type": "code",
   "execution_count": 99,
   "id": "b2acd69a-e811-469f-8d07-814fe48cdb15",
   "metadata": {},
   "outputs": [
    {
     "name": "stdout",
     "output_type": "stream",
     "text": [
      "Test Accuracy: 0.5106221547799696\n"
     ]
    }
   ],
   "source": [
    "#Calculamos el Accuracy\n",
    "print('Validation Accuracy:', accuracy_score(yVal, yPred))"
   ]
  },
  {
   "cell_type": "code",
   "execution_count": 100,
   "id": "87d5ee0c-96cb-4e16-aa12-076c85d830ab",
   "metadata": {},
   "outputs": [
    {
     "name": "stdout",
     "output_type": "stream",
     "text": [
      "              precision    recall  f1-score   support\n",
      "\n",
      "           0       0.00      0.00      0.00       645\n",
      "           1       0.51      1.00      0.68       673\n",
      "\n",
      "    accuracy                           0.51      1318\n",
      "   macro avg       0.26      0.50      0.34      1318\n",
      "weighted avg       0.26      0.51      0.35      1318\n",
      "\n"
     ]
    },
    {
     "name": "stderr",
     "output_type": "stream",
     "text": [
      "C:\\Users\\alexa\\anaconda3\\lib\\site-packages\\sklearn\\metrics\\_classification.py:1245: UndefinedMetricWarning: Precision and F-score are ill-defined and being set to 0.0 in labels with no predicted samples. Use `zero_division` parameter to control this behavior.\n",
      "  _warn_prf(average, modifier, msg_start, len(result))\n",
      "C:\\Users\\alexa\\anaconda3\\lib\\site-packages\\sklearn\\metrics\\_classification.py:1245: UndefinedMetricWarning: Precision and F-score are ill-defined and being set to 0.0 in labels with no predicted samples. Use `zero_division` parameter to control this behavior.\n",
      "  _warn_prf(average, modifier, msg_start, len(result))\n",
      "C:\\Users\\alexa\\anaconda3\\lib\\site-packages\\sklearn\\metrics\\_classification.py:1245: UndefinedMetricWarning: Precision and F-score are ill-defined and being set to 0.0 in labels with no predicted samples. Use `zero_division` parameter to control this behavior.\n",
      "  _warn_prf(average, modifier, msg_start, len(result))\n"
     ]
    }
   ],
   "source": [
    "#Vemos el reporte de los resultados.\n",
    "print(classification_report(yVal, yPred))"
   ]
  },
  {
   "cell_type": "markdown",
   "id": "6dbe87ad-942d-407f-b4db-bc3069b57eba",
   "metadata": {},
   "source": [
    "##### k-Fold Cross Validation"
   ]
  },
  {
   "cell_type": "code",
   "execution_count": 78,
   "id": "cb1523d7-7a8c-4ee5-ac2e-1e5004ab4a56",
   "metadata": {},
   "outputs": [
    {
     "name": "stdout",
     "output_type": "stream",
     "text": [
      "La media del score es: 0.489 ±(0.017)\n"
     ]
    }
   ],
   "source": [
    "cv = KFold(n_splits=10, random_state=33, shuffle=True)\n",
    "cv.get_n_splits(x)\n",
    "scores = cross_val_score(modeloSVC, x, y, cv=cv)\n",
    "print('La media del score es: %.3f ±(%.3f)' % (np.mean(scores), np.std(scores)))"
   ]
  },
  {
   "cell_type": "markdown",
   "id": "1c6c1990-cbcc-4712-9b3c-34cd969b6fab",
   "metadata": {},
   "source": [
    "#### Modelo 4: Support Vector Machine - Regression"
   ]
  },
  {
   "cell_type": "code",
   "execution_count": 104,
   "id": "168e08f7-a85d-4706-9edf-2e398f5ff867",
   "metadata": {},
   "outputs": [
    {
     "data": {
      "text/plain": [
       "SVC(C=100, kernel='linear')"
      ]
     },
     "execution_count": 104,
     "metadata": {},
     "output_type": "execute_result"
    }
   ],
   "source": [
    "#Definimos el modelo.\n",
    "modeloSVR = SVC(kernel='linear', C=100)\n",
    "modeloSVR.fit(xTrain, yTrain)"
   ]
  },
  {
   "cell_type": "markdown",
   "id": "a740a648-818a-4392-85ca-0cf234325d08",
   "metadata": {},
   "source": [
    "##### Datos de Prueba"
   ]
  },
  {
   "cell_type": "code",
   "execution_count": 105,
   "id": "25834dea-1979-44fb-b55e-7c9d8dfd1160",
   "metadata": {},
   "outputs": [
    {
     "name": "stdout",
     "output_type": "stream",
     "text": [
      "[[   0 1344]\n",
      " [   0 1294]]\n"
     ]
    },
    {
     "data": {
      "text/plain": [
       "<AxesSubplot:>"
      ]
     },
     "execution_count": 105,
     "metadata": {},
     "output_type": "execute_result"
    },
    {
     "data": {
      "image/png": "[encoded data removed]",
      "text/plain": [
       "<Figure size 432x288 with 2 Axes>"
      ]
     },
     "metadata": {
      "needs_background": "light"
     },
     "output_type": "display_data"
    }
   ],
   "source": [
    "#Hacemos una predicción \n",
    "yPred = modeloSVR.predict(xTest)\n",
    "\n",
    "#Calculamos la Matriz de Confusión \n",
    "cf_matrix = confusion_matrix(yTest, yPred)\n",
    "print(cf_matrix)\n",
    "sns.heatmap(cf_matrix, cmap='Blues', annot=True)"
   ]
  },
  {
   "cell_type": "code",
   "execution_count": 107,
   "id": "5de3335d-a8ff-46d6-a2d0-03f058265aa0",
   "metadata": {},
   "outputs": [
    {
     "name": "stdout",
     "output_type": "stream",
     "text": [
      "Test Accuracy: 0.49052312357846856\n"
     ]
    }
   ],
   "source": [
    "#Calculamos el Accuracy\n",
    "print('Test Accuracy:', accuracy_score(yTest, yPred))"
   ]
  },
  {
   "cell_type": "code",
   "execution_count": 109,
   "id": "ccbde5bc-fed9-49ba-94a1-d4e5623d8441",
   "metadata": {},
   "outputs": [
    {
     "name": "stdout",
     "output_type": "stream",
     "text": [
      "              precision    recall  f1-score   support\n",
      "\n",
      "           0       0.00      0.00      0.00      1344\n",
      "           1       0.49      1.00      0.66      1294\n",
      "\n",
      "    accuracy                           0.49      2638\n",
      "   macro avg       0.25      0.50      0.33      2638\n",
      "weighted avg       0.24      0.49      0.32      2638\n",
      "\n"
     ]
    },
    {
     "name": "stderr",
     "output_type": "stream",
     "text": [
      "C:\\Users\\alexa\\anaconda3\\lib\\site-packages\\sklearn\\metrics\\_classification.py:1245: UndefinedMetricWarning: Precision and F-score are ill-defined and being set to 0.0 in labels with no predicted samples. Use `zero_division` parameter to control this behavior.\n",
      "  _warn_prf(average, modifier, msg_start, len(result))\n",
      "C:\\Users\\alexa\\anaconda3\\lib\\site-packages\\sklearn\\metrics\\_classification.py:1245: UndefinedMetricWarning: Precision and F-score are ill-defined and being set to 0.0 in labels with no predicted samples. Use `zero_division` parameter to control this behavior.\n",
      "  _warn_prf(average, modifier, msg_start, len(result))\n",
      "C:\\Users\\alexa\\anaconda3\\lib\\site-packages\\sklearn\\metrics\\_classification.py:1245: UndefinedMetricWarning: Precision and F-score are ill-defined and being set to 0.0 in labels with no predicted samples. Use `zero_division` parameter to control this behavior.\n",
      "  _warn_prf(average, modifier, msg_start, len(result))\n"
     ]
    }
   ],
   "source": [
    "#Vemos el reporte de los resultados.\n",
    "print(classification_report(yTest, yPred))"
   ]
  },
  {
   "cell_type": "markdown",
   "id": "7c65cde9-a204-40d0-85d0-ba59c00338e8",
   "metadata": {},
   "source": [
    "##### Datos de Validación "
   ]
  },
  {
   "cell_type": "code",
   "execution_count": 115,
   "id": "d5f2c94d-9775-456d-bf85-a8b7c37f0d18",
   "metadata": {},
   "outputs": [
    {
     "name": "stdout",
     "output_type": "stream",
     "text": [
      "[[  0 645]\n",
      " [  0 673]]\n"
     ]
    },
    {
     "data": {
      "text/plain": [
       "<AxesSubplot:>"
      ]
     },
     "execution_count": 115,
     "metadata": {},
     "output_type": "execute_result"
    },
    {
     "data": {
      "image/png": "[encoded data removed]",
      "text/plain": [
       "<Figure size 432x288 with 2 Axes>"
      ]
     },
     "metadata": {
      "needs_background": "light"
     },
     "output_type": "display_data"
    }
   ],
   "source": [
    "#Hacemos una predicción \n",
    "yPred = modeloSVR.predict(xVal)\n",
    "\n",
    "#Calculamos la Matriz de Confusión \n",
    "cf_matrix = confusion_matrix(yVal, yPred)\n",
    "print(cf_matrix)\n",
    "sns.heatmap(cf_matrix, cmap='Blues', annot=True)"
   ]
  },
  {
   "cell_type": "code",
   "execution_count": 116,
   "id": "f31e315a-c274-4211-af7e-287ed5aa0cd2",
   "metadata": {},
   "outputs": [
    {
     "name": "stdout",
     "output_type": "stream",
     "text": [
      "Test Accuracy: 0.5106221547799696\n"
     ]
    }
   ],
   "source": [
    "#Calculamos el Accuracy\n",
    "print('Validation Accuracy:', accuracy_score(yVal, yPred))"
   ]
  },
  {
   "cell_type": "code",
   "execution_count": 118,
   "id": "476288eb-de78-4979-8e07-f322544eef84",
   "metadata": {},
   "outputs": [
    {
     "name": "stdout",
     "output_type": "stream",
     "text": [
      "              precision    recall  f1-score   support\n",
      "\n",
      "           0       0.00      0.00      0.00       645\n",
      "           1       0.51      1.00      0.68       673\n",
      "\n",
      "    accuracy                           0.51      1318\n",
      "   macro avg       0.26      0.50      0.34      1318\n",
      "weighted avg       0.26      0.51      0.35      1318\n",
      "\n"
     ]
    },
    {
     "name": "stderr",
     "output_type": "stream",
     "text": [
      "C:\\Users\\alexa\\anaconda3\\lib\\site-packages\\sklearn\\metrics\\_classification.py:1245: UndefinedMetricWarning: Precision and F-score are ill-defined and being set to 0.0 in labels with no predicted samples. Use `zero_division` parameter to control this behavior.\n",
      "  _warn_prf(average, modifier, msg_start, len(result))\n",
      "C:\\Users\\alexa\\anaconda3\\lib\\site-packages\\sklearn\\metrics\\_classification.py:1245: UndefinedMetricWarning: Precision and F-score are ill-defined and being set to 0.0 in labels with no predicted samples. Use `zero_division` parameter to control this behavior.\n",
      "  _warn_prf(average, modifier, msg_start, len(result))\n",
      "C:\\Users\\alexa\\anaconda3\\lib\\site-packages\\sklearn\\metrics\\_classification.py:1245: UndefinedMetricWarning: Precision and F-score are ill-defined and being set to 0.0 in labels with no predicted samples. Use `zero_division` parameter to control this behavior.\n",
      "  _warn_prf(average, modifier, msg_start, len(result))\n"
     ]
    }
   ],
   "source": [
    "#Vemos el reporte de los resultados.\n",
    "print(classification_report(yVal, yPred))"
   ]
  },
  {
   "cell_type": "markdown",
   "id": "209613bc-a336-44f0-9b8c-b3875c5cab60",
   "metadata": {},
   "source": [
    "##### k-Fold Cross Validation"
   ]
  },
  {
   "cell_type": "code",
   "execution_count": 119,
   "id": "b13950c2-9247-4acc-b4fb-2256de3d2e43",
   "metadata": {},
   "outputs": [
    {
     "name": "stdout",
     "output_type": "stream",
     "text": [
      "La media del score es: 0.489 ±(0.017)\n"
     ]
    }
   ],
   "source": [
    "cv = KFold(n_splits=10, random_state=33, shuffle=True)\n",
    "cv.get_n_splits(x)\n",
    "scores = cross_val_score(modeloSVR, x, y, cv=cv)\n",
    "print('La media del score es: %.3f ±(%.3f)' % (np.mean(scores), np.std(scores)))"
   ]
  },
  {
   "cell_type": "markdown",
   "id": "af99dbcd-71df-4679-8b60-1b2cb89ac343",
   "metadata": {},
   "source": [
    "#### Modelo 5: Árbol de Desición - Regresión "
   ]
  },
  {
   "cell_type": "code",
   "execution_count": 122,
   "id": "1f07f749-0cb4-4477-8d51-263d5dfef9c1",
   "metadata": {},
   "outputs": [
    {
     "data": {
      "text/plain": [
       "DecisionTreeRegressor(max_depth=3, random_state=123)"
      ]
     },
     "execution_count": 122,
     "metadata": {},
     "output_type": "execute_result"
    }
   ],
   "source": [
    "#Definimos el modelo.\n",
    "modeloADR = DecisionTreeRegressor(max_depth = 3, random_state = 123)\n",
    "modeloADR.fit(xTrain, yTrain)"
   ]
  },
  {
   "cell_type": "markdown",
   "id": "a56dbb52-a545-4983-92d7-e75f3cc3c180",
   "metadata": {},
   "source": [
    "##### Datos de Prueba"
   ]
  },
  {
   "cell_type": "code",
   "execution_count": 134,
   "id": "1595cb95-90cc-4c3a-8e09-dcd87ed2c96e",
   "metadata": {},
   "outputs": [
    {
     "name": "stdout",
     "output_type": "stream",
     "text": [
      "El error (RMS) de test es:  0.2522676320776453\n",
      "El error (RMSE) de test es:  0.502262513112063\n"
     ]
    }
   ],
   "source": [
    "#Hacemos una predicción \n",
    "yPred = modeloADR.predict(xTest)\n",
    "\n",
    "mse = mean_squared_error(yTest, yPred)\n",
    "rmse = mse**.5\n",
    "print(\"El error (RMS) de test es: \",mse)\n",
    "print(\"El error (RMSE) de test es: \",rmse)"
   ]
  },
  {
   "cell_type": "markdown",
   "id": "0a71db03-d678-43e8-acb6-c5b3dbf8c2e5",
   "metadata": {},
   "source": [
    "##### Datos de Validación "
   ]
  },
  {
   "cell_type": "code",
   "execution_count": 136,
   "id": "7e99de02-81d0-49cf-a0f5-635c8c6e9a94",
   "metadata": {},
   "outputs": [
    {
     "name": "stdout",
     "output_type": "stream",
     "text": [
      "El error (RMS) de test es:  0.25080292472096594\n",
      "El error (RMSE) de test es:  0.500802281066057\n"
     ]
    }
   ],
   "source": [
    "#Hacemos una predicción \n",
    "yPred = modeloADR.predict(xVal)\n",
    "\n",
    "mse = mean_squared_error(yVal, yPred)\n",
    "rmse = mse**.5\n",
    "print(\"El error (RMS) de test es: \",mse)\n",
    "print(\"El error (RMSE) de test es: \",rmse)"
   ]
  },
  {
   "cell_type": "markdown",
   "id": "cb6ac40b-dab6-4754-8204-70b9978daa17",
   "metadata": {},
   "source": [
    "##### k-Fold Cross Validation"
   ]
  },
  {
   "cell_type": "code",
   "execution_count": 128,
   "id": "8c27ee9f-0cf2-4ef9-9cf5-ec992d84891e",
   "metadata": {},
   "outputs": [
    {
     "name": "stdout",
     "output_type": "stream",
     "text": [
      "La media del score es: -0.005 ±(0.004)\n"
     ]
    }
   ],
   "source": [
    "cv = KFold(n_splits=10, random_state=33, shuffle=True)\n",
    "cv.get_n_splits(x)\n",
    "scores = cross_val_score(modeloADR, x, y, cv=cv)\n",
    "print('La media del score es: %.3f ±(%.3f)' % (np.mean(scores), np.std(scores)))"
   ]
  },
  {
   "cell_type": "markdown",
   "id": "7751d3f3-24fc-4eac-9f1e-65b5dd86fcb3",
   "metadata": {},
   "source": [
    "#### Modelo 6: Random Forest - Regression "
   ]
  },
  {
   "cell_type": "code",
   "execution_count": 132,
   "id": "3655c226-bf63-448b-bccb-da262dfdd2a5",
   "metadata": {},
   "outputs": [
    {
     "data": {
      "text/plain": [
       "RandomForestRegressor(random_state=0)"
      ]
     },
     "execution_count": 132,
     "metadata": {},
     "output_type": "execute_result"
    }
   ],
   "source": [
    "#Definimos el modelo.\n",
    "modeloRFR = RandomForestRegressor(n_estimators = 100, random_state = 0)\n",
    "modeloRFR.fit(x, y) "
   ]
  },
  {
   "cell_type": "markdown",
   "id": "ec18c28f-e896-4f22-8171-8fe309f1a8b0",
   "metadata": {},
   "source": [
    "##### Datos de Prueba"
   ]
  },
  {
   "cell_type": "code",
   "execution_count": 133,
   "id": "730f7c48-9afb-467c-a20c-c584a1080f18",
   "metadata": {},
   "outputs": [
    {
     "name": "stdout",
     "output_type": "stream",
     "text": [
      "El error (RMS) de test es:  0.35592297137882845\n",
      "El error (RMSE) de test es:  0.5965928019837554\n"
     ]
    }
   ],
   "source": [
    "yPred = modeloRFR.predict(xTest)\n",
    "mse = mean_squared_error(yTest, yPred)\n",
    "rmse = mse**.5\n",
    "print(\"El error (RMS) de test es: \",mse)\n",
    "print(\"El error (RMSE) de test es: \",rmse)"
   ]
  },
  {
   "cell_type": "markdown",
   "id": "626b12cc-3f29-4b6a-8b1c-0d803383fd9d",
   "metadata": {},
   "source": [
    "##### Datos de Validación "
   ]
  },
  {
   "cell_type": "code",
   "execution_count": 137,
   "id": "e5bce0a7-dd0a-423e-b40f-6edb1768ce5d",
   "metadata": {},
   "outputs": [
    {
     "name": "stdout",
     "output_type": "stream",
     "text": [
      "El error (RMS) de test es:  0.37136515901707867\n",
      "El error (RMSE) de test es:  0.6093973736545627\n"
     ]
    }
   ],
   "source": [
    "yPred = modeloRFR.predict(xVal)\n",
    "mse = mean_squared_error(yVal, yPred)\n",
    "rmse = mse**.5\n",
    "print(\"El error (RMS) de test es: \",mse)\n",
    "print(\"El error (RMSE) de test es: \",rmse)"
   ]
  },
  {
   "cell_type": "markdown",
   "id": "938ae196-3bb3-4207-a7ff-5fa990613bda",
   "metadata": {},
   "source": [
    "##### k-Fold Cross Validation"
   ]
  },
  {
   "cell_type": "code",
   "execution_count": 138,
   "id": "a19df2cf-f622-4f7c-b3dc-f2f28383883d",
   "metadata": {},
   "outputs": [
    {
     "name": "stdout",
     "output_type": "stream",
     "text": [
      "La media del score es: -0.235 ±(0.027)\n"
     ]
    }
   ],
   "source": [
    "cv = KFold(n_splits=10, random_state=33, shuffle=True)\n",
    "cv.get_n_splits(x)\n",
    "scores = cross_val_score(modeloRFR, x, y, cv=cv)\n",
    "print('La media del score es: %.3f ±(%.3f)' % (np.mean(scores), np.std(scores)))"
   ]
  }
 ],
 "metadata": {
  "kernelspec": {
   "display_name": "Python 3",
   "language": "python",
   "name": "python3"
  },
  "language_info": {
   "codemirror_mode": {
    "name": "ipython",
    "version": 3
   },
   "file_extension": ".py",
   "mimetype": "text/x-python",
   "name": "python",
   "nbconvert_exporter": "python",
   "pygments_lexer": "ipython3",
   "version": "3.8.8"
  }
 },
 "nbformat": 4,
 "nbformat_minor": 5
}
